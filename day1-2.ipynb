{
 "cells": [
  {
   "cell_type": "code",
   "execution_count": 11,
   "id": "b92e0a38",
   "metadata": {},
   "outputs": [
    {
     "name": "stdout",
     "output_type": "stream",
     "text": [
      "input: What is the Newton’s law?\n",
      "answer: math teacher\n",
      "input: How did World War I end?\n",
      "answer: history teacher\n"
     ]
    }
   ],
   "source": [
    "import ollama\n",
    "model = 'llama3'\n",
    "# model = 'phi3'\n",
    "\n",
    "# 사용자 입력 예시\n",
    "inputs = [\n",
    "    'What is the Newton’s law?',\n",
    "    'How did World War I end?'\n",
    "]\n",
    "\n",
    "def find_role(input):\n",
    "    response = ollama.chat(model=model, messages=[\n",
    "      {\n",
    "          'role': 'system',\n",
    "          'content': \"\"\"\n",
    "              You're an expert at role distinctions. roles are only maths teacher and history teacher.\n",
    "              You must tell which of these two roles is better able to answer a user's question.\n",
    "              \"math teacher\" is good at answering questions related to maths.\n",
    "              \"history teacher\" is good at answering questions related to history.\n",
    "              When you answer, you answer only the role.\n",
    "              Answer example \"math teacher\"\n",
    "              Answer in lowercase only\n",
    "          \"\"\"\n",
    "      },\n",
    "      {'role': 'user', 'content': input},\n",
    "    ])\n",
    "    return response['message']['content']\n",
    "\n",
    "for input in inputs:\n",
    "    print(f\"input: {input}\")\n",
    "    print(f\"answer: {find_role(input)}\")"
   ]
  },
  {
   "cell_type": "code",
   "execution_count": null,
   "id": "10ff40d2",
   "metadata": {},
   "outputs": [],
   "source": []
  }
 ],
 "metadata": {
  "kernelspec": {
   "display_name": "Python 3 (ipykernel)",
   "language": "python",
   "name": "python3"
  },
  "language_info": {
   "codemirror_mode": {
    "name": "ipython",
    "version": 3
   },
   "file_extension": ".py",
   "mimetype": "text/x-python",
   "name": "python",
   "nbconvert_exporter": "python",
   "pygments_lexer": "ipython3",
   "version": "3.11.4"
  }
 },
 "nbformat": 4,
 "nbformat_minor": 5
}
