{
 "cells": [
  {
   "metadata": {},
   "cell_type": "markdown",
   "source": [
    "# Day 3-1\n",
    "https://colab.research.google.com/drive/1Nvq7ogHRZNglsdjoNsS9xc3QQoUQoV2T#scrollTo=a9c910c1-738c-4bf7-bf9e-801862b227eb\n",
    "\n",
    "https://github.com/langchain-ai/langgraph/blob/main/examples/rag/langgraph_rag_agent_llama3_local.ipynb\n",
    "\n",
    "검색엔진 Tavily"
   ],
   "id": "54353a5b938e125f"
  },
  {
   "metadata": {
    "ExecuteTime": {
     "end_time": "2024-06-19T08:28:33.169948Z",
     "start_time": "2024-06-19T08:28:33.167342Z"
    }
   },
   "cell_type": "code",
   "source": [
    "# 필요한 라이브러리 설치\n",
    "# !pip install langchain-nomic\n",
    "# !pip install -U langchain-nomic langchain_community tiktoken langchainhub chromadb langchain langgraph tavily-python langchain-text-splitters 'nomic[local]'"
   ],
   "id": "644fcebee3ae6548",
   "outputs": [],
   "execution_count": 1
  },
  {
   "metadata": {
    "ExecuteTime": {
     "end_time": "2024-06-19T08:28:41.545714Z",
     "start_time": "2024-06-19T08:28:35.361948Z"
    }
   },
   "cell_type": "code",
   "source": [
    "from tavily import TavilyClient\n",
    "import getpass\n",
    "tavily = TavilyClient(api_key=getpass.getpass())"
   ],
   "id": "e328460cc53eb71",
   "outputs": [],
   "execution_count": 2
  },
  {
   "metadata": {
    "ExecuteTime": {
     "end_time": "2024-06-19T08:28:45.459679Z",
     "start_time": "2024-06-19T08:28:42.897267Z"
    }
   },
   "cell_type": "code",
   "source": "response = tavily.search(query=\"Where does Messi play right now?\", max_results=3)",
   "id": "abdcf1c53ecf7c09",
   "outputs": [],
   "execution_count": 3
  },
  {
   "metadata": {
    "ExecuteTime": {
     "end_time": "2024-06-19T08:28:46.395764Z",
     "start_time": "2024-06-19T08:28:46.390773Z"
    }
   },
   "cell_type": "code",
   "source": "response",
   "id": "2702aec893602bb1",
   "outputs": [
    {
     "data": {
      "text/plain": [
       "{'query': 'Where does Messi play right now?',\n",
       " 'follow_up_questions': None,\n",
       " 'answer': None,\n",
       " 'images': None,\n",
       " 'results': [{'title': 'Is Lionel Messi playing today? Status for next Inter Miami game in 2024 ...',\n",
       "   'url': 'https://www.sportingnews.com/us/soccer/news/lionel-messi-playing-today-inter-miami-game-2024/129c2c378fee4d1f0102aa9d',\n",
       "   'content': '* Lionel Messi did not participate. Inter Miami schedule for Leagues Cup. The 2024 Leagues Cup is scheduled to begin on July 26, running for a month while the MLS season pauses play.. The final ...',\n",
       "   'score': 0.98773,\n",
       "   'raw_content': None},\n",
       "  {'title': 'Where will Lionel Messi play in 2024? Cities, stadiums Inter Miami ...',\n",
       "   'url': 'https://www.sportingnews.com/us/soccer/news/where-lionel-messi-play-2024-inter-miami-cities-road-schedule/23334c5768cebee9021e71d0',\n",
       "   'content': \"Here is how Inter Miami's road schedule will look for the coming regular season:\\nInter Miami home stadium for 2024 MLS season\\nFor their home matches through the 2024 campaign, Inter Miami will once again play at\\xa0DRV PNK Stadium in Fort Lauderdale, Florida.\\n Cities, stadiums Inter Miami visit on road MLS schedule for new season\\nWith Lionel Messi set to embark on his first full season with Inter Miami, fans across the United States will be clamoring to see when the Argentine superstar will visit their city in 2024.\\n MLS Season Pass is separate from Apple TV+, meaning those with Apple TV+ would still need an MLS Season Pass subscription to access the complete slate of games, while those without Apple TV+ can still sign up for MLS Season Pass without needing a full Apple TV+ subscription.\\n SUBSCRIBE TO MLS SEASON PASS NOW\\nApple TV is the official home of the MLS regular season and playoffs, with every match for every team available to stream around the world with no blackouts. How to watch Inter Miami in 2024 MLS season\\nLast season, Major League Soccer kicked off a 10-year broadcast rights deal with Apple that sees every single match for the next decade streamed exclusively on Apple's streaming platform.\\n\",\n",
       "   'score': 0.9823,\n",
       "   'raw_content': None},\n",
       "  {'title': 'Lionel Messi makes it official and signs with Inter Miami : NPR',\n",
       "   'url': 'https://www.npr.org/2023/07/16/1187996921/lionel-messi-official-inter-miami-major-league-soccer',\n",
       "   'content': 'Miami\\'s Argentinian community celebrates soccer star Lionel Messi moving to the city\\n\"We are overjoyed that the greatest player in the world chose Inter Miami CF and Major League Soccer, and his decision is a testament to the momentum and energy behind our League and our sport in North America,\" MLS Commissioner Don Garber said in a statement. Sports\\nLionel Messi makes it official and signs with Inter Miami\\nBy\\nThe Associated Press\\nArtist Maximiliano Bagnasco paints a mural of Argentine soccer star Lionel Messi on July 10 in the Wynwood neighborhood of Miami.\\n \"After winning the World Cup and not being able to return to Barcelona, it was my turn to go to the league of the United States to live football in another way,\" Messi said in June when announcing his decision.\\n Messi was seen at a Publix supermarket near Fort Lauderdale — the grocery chain is an Inter Miami sponsor — with his family earlier in the week, and the cart had a few items picked out by the kids: Froot Loops, Cap\\'n Crunch, Lucky Charms. \"Players who shared the ambition I had when I joined LA Galaxy to help grow football in the USA and to build a legacy for the next generation in this sport that we love so much.\\n',\n",
       "   'score': 0.97924,\n",
       "   'raw_content': None}],\n",
       " 'response_time': 0.82}"
      ]
     },
     "execution_count": 4,
     "metadata": {},
     "output_type": "execute_result"
    }
   ],
   "execution_count": 4
  },
  {
   "metadata": {
    "ExecuteTime": {
     "end_time": "2024-06-19T08:28:49.952727Z",
     "start_time": "2024-06-19T08:28:49.948943Z"
    }
   },
   "cell_type": "code",
   "source": [
    "# response['results'] 에서 url과 content를 가져와서 context 리스트에 담아주기\n",
    "context = [{\"url\": obj[\"url\"], \"content\": obj[\"content\"]} for obj in response['results']]\n",
    "context"
   ],
   "id": "17c8c8ecf5932c2f",
   "outputs": [
    {
     "data": {
      "text/plain": [
       "[{'url': 'https://www.sportingnews.com/us/soccer/news/lionel-messi-playing-today-inter-miami-game-2024/129c2c378fee4d1f0102aa9d',\n",
       "  'content': '* Lionel Messi did not participate. Inter Miami schedule for Leagues Cup. The 2024 Leagues Cup is scheduled to begin on July 26, running for a month while the MLS season pauses play.. The final ...'},\n",
       " {'url': 'https://www.sportingnews.com/us/soccer/news/where-lionel-messi-play-2024-inter-miami-cities-road-schedule/23334c5768cebee9021e71d0',\n",
       "  'content': \"Here is how Inter Miami's road schedule will look for the coming regular season:\\nInter Miami home stadium for 2024 MLS season\\nFor their home matches through the 2024 campaign, Inter Miami will once again play at\\xa0DRV PNK Stadium in Fort Lauderdale, Florida.\\n Cities, stadiums Inter Miami visit on road MLS schedule for new season\\nWith Lionel Messi set to embark on his first full season with Inter Miami, fans across the United States will be clamoring to see when the Argentine superstar will visit their city in 2024.\\n MLS Season Pass is separate from Apple TV+, meaning those with Apple TV+ would still need an MLS Season Pass subscription to access the complete slate of games, while those without Apple TV+ can still sign up for MLS Season Pass without needing a full Apple TV+ subscription.\\n SUBSCRIBE TO MLS SEASON PASS NOW\\nApple TV is the official home of the MLS regular season and playoffs, with every match for every team available to stream around the world with no blackouts. How to watch Inter Miami in 2024 MLS season\\nLast season, Major League Soccer kicked off a 10-year broadcast rights deal with Apple that sees every single match for the next decade streamed exclusively on Apple's streaming platform.\\n\"},\n",
       " {'url': 'https://www.npr.org/2023/07/16/1187996921/lionel-messi-official-inter-miami-major-league-soccer',\n",
       "  'content': 'Miami\\'s Argentinian community celebrates soccer star Lionel Messi moving to the city\\n\"We are overjoyed that the greatest player in the world chose Inter Miami CF and Major League Soccer, and his decision is a testament to the momentum and energy behind our League and our sport in North America,\" MLS Commissioner Don Garber said in a statement. Sports\\nLionel Messi makes it official and signs with Inter Miami\\nBy\\nThe Associated Press\\nArtist Maximiliano Bagnasco paints a mural of Argentine soccer star Lionel Messi on July 10 in the Wynwood neighborhood of Miami.\\n \"After winning the World Cup and not being able to return to Barcelona, it was my turn to go to the league of the United States to live football in another way,\" Messi said in June when announcing his decision.\\n Messi was seen at a Publix supermarket near Fort Lauderdale — the grocery chain is an Inter Miami sponsor — with his family earlier in the week, and the cart had a few items picked out by the kids: Froot Loops, Cap\\'n Crunch, Lucky Charms. \"Players who shared the ambition I had when I joined LA Galaxy to help grow football in the USA and to build a legacy for the next generation in this sport that we love so much.\\n'}]"
      ]
     },
     "execution_count": 5,
     "metadata": {},
     "output_type": "execute_result"
    }
   ],
   "execution_count": 5
  },
  {
   "metadata": {
    "ExecuteTime": {
     "end_time": "2024-06-19T08:28:58.516432Z",
     "start_time": "2024-06-19T08:28:56.682580Z"
    }
   },
   "cell_type": "code",
   "source": [
    "# You can easily get search result context based on any max tokens straight into your RAG.\n",
    "# The response is a string of the context within the max_token limit.\n",
    "\n",
    "response_context = tavily.get_search_context(query=\"Where does Messi play right now?\", search_depth=\"advanced\", max_tokens=500)\n",
    "response_context"
   ],
   "id": "d562e9265fbf2a39",
   "outputs": [
    {
     "data": {
      "text/plain": [
       "'\"[\\\\\"{\\\\\\\\\\\\\"url\\\\\\\\\\\\\": \\\\\\\\\\\\\"https://www.sportingnews.com/us/soccer/news/where-lionel-messi-play-2024-inter-miami-cities-road-schedule/23334c5768cebee9021e71d0\\\\\\\\\\\\\", \\\\\\\\\\\\\"content\\\\\\\\\\\\\": \\\\\\\\\\\\\"Here is how Inter Miami\\'s road schedule will look for the coming regular season:\\\\\\\\\\\\\\\\nInter Miami home stadium for 2024 MLS season\\\\\\\\\\\\\\\\nFor their home matches through the 2024 campaign, Inter Miami will once again play at\\\\\\\\\\\\\\\\u00a0DRV PNK Stadium in Fort Lauderdale, Florida.\\\\\\\\\\\\\\\\n Cities, stadiums Inter Miami visit on road MLS schedule for new season\\\\\\\\\\\\\\\\nWith Lionel Messi set to embark on his first full season with Inter Miami, fans across the United States will be clamoring to see when the Argentine superstar will visit their city in 2024.\\\\\\\\\\\\\\\\n MLS Season Pass is separate from Apple TV+, meaning those with Apple TV+ would still need an MLS Season Pass subscription to access the complete slate of games, while those without Apple TV+ can still sign up for MLS Season Pass without needing a full Apple TV+ subscription.\\\\\\\\\\\\\\\\n SUBSCRIBE TO MLS SEASON PASS NOW\\\\\\\\\\\\\\\\nApple TV is the official home of the MLS regular season and playoffs, with every match for every team available to stream around the world with no blackouts. How to watch Inter Miami in 2024 MLS season\\\\\\\\\\\\\\\\nLast season, Major League Soccer kicked off a 10-year broadcast rights deal with Apple that sees every single match for the next decade streamed exclusively on Apple\\'s streaming platform.\\\\\\\\\\\\\\\\n\\\\\\\\\\\\\"}\\\\\", \\\\\"{\\\\\\\\\\\\\"url\\\\\\\\\\\\\": \\\\\\\\\\\\\"https://www.sportingnews.com/us/soccer/news/lionel-messi-playing-today-inter-miami-game-2024/129c2c378fee4d1f0102aa9d\\\\\\\\\\\\\", \\\\\\\\\\\\\"content\\\\\\\\\\\\\": \\\\\\\\\\\\\"* Lionel Messi did not participate. Inter Miami schedule for Leagues Cup. The 2024 Leagues Cup is scheduled to begin on July 26, running for a month while the MLS season pauses play.. The final ...\\\\\\\\\\\\\"}\\\\\"]\"'"
      ]
     },
     "execution_count": 6,
     "metadata": {},
     "output_type": "execute_result"
    }
   ],
   "execution_count": 6
  },
  {
   "metadata": {
    "ExecuteTime": {
     "end_time": "2024-06-19T08:29:01.382251Z",
     "start_time": "2024-06-19T08:28:59.086128Z"
    }
   },
   "cell_type": "code",
   "source": [
    "# You can also get a simple answer to a question including relevant sources all with a simple function call:\n",
    "# You can use it for baseline\n",
    "response_qna = tavily.qna_search(query=\"Where does Messi play right now?\")\n",
    "response_qna"
   ],
   "id": "a7ec65f2c7c8f00e",
   "outputs": [
    {
     "data": {
      "text/plain": [
       "'Lionel Messi currently plays for Inter Miami in the MLS. He is expected to make his full MLS debut against Charlotte in Fort Lauderdale.'"
      ]
     },
     "execution_count": 7,
     "metadata": {},
     "output_type": "execute_result"
    }
   ],
   "execution_count": 7
  },
  {
   "metadata": {
    "ExecuteTime": {
     "end_time": "2024-06-19T08:29:31.367287Z",
     "start_time": "2024-06-19T08:29:28.095604Z"
    }
   },
   "cell_type": "code",
   "source": [
    "import os\n",
    "import getpass\n",
    "\n",
    "os.environ['OPENAI_API_KEY'] = getpass.getpass()"
   ],
   "id": "39f5d34b22273fe0",
   "outputs": [],
   "execution_count": 8
  },
  {
   "metadata": {
    "ExecuteTime": {
     "end_time": "2024-06-19T08:31:43.951528Z",
     "start_time": "2024-06-19T08:31:43.948484Z"
    }
   },
   "cell_type": "code",
   "source": [
    "# will use llama3 model with Ollama\n",
    "local_llm = 'llama3'"
   ],
   "id": "fdcfccba1922a51",
   "outputs": [],
   "execution_count": 10
  },
  {
   "metadata": {
    "ExecuteTime": {
     "end_time": "2024-06-19T08:31:54.859051Z",
     "start_time": "2024-06-19T08:31:50.732976Z"
    }
   },
   "cell_type": "code",
   "source": [
    "### Index\n",
    "from langchain_community.document_loaders import WebBaseLoader\n",
    "from langchain_community.embeddings import GPT4AllEmbeddings\n",
    "from langchain_community.vectorstores import Chroma\n",
    "from langchain_text_splitters import RecursiveCharacterTextSplitter\n",
    "\n",
    "urls = [\n",
    "    \"https://lilianweng.github.io/posts/2023-06-23-agent/\",\n",
    "    \"https://lilianweng.github.io/posts/2023-03-15-prompt-engineering/\",\n",
    "    \"https://lilianweng.github.io/posts/2023-10-25-adv-attack-llm/\",\n",
    "]\n",
    "\n",
    "docs = [WebBaseLoader(url).load() for url in urls]\n",
    "docs_list = [item for sublist in docs for item in sublist]\n",
    "\n",
    "text_splitter = RecursiveCharacterTextSplitter.from_tiktoken_encoder(\n",
    "    chunk_size=250, chunk_overlap=0\n",
    ")\n",
    "doc_splits = text_splitter.split_documents(docs_list)\n",
    "\n",
    "# Add to vectorDB\n",
    "vectorstore = Chroma.from_documents(\n",
    "    documents=doc_splits,\n",
    "    collection_name=\"rag-chroma-2\",\n",
    "    embedding=GPT4AllEmbeddings(model_name=\"all-MiniLM-L6-v2.gguf2.f16.gguf\"),\n",
    ")\n",
    "retriever = vectorstore.as_retriever()"
   ],
   "id": "821f583b05bf6d99",
   "outputs": [
    {
     "name": "stderr",
     "output_type": "stream",
     "text": [
      "USER_AGENT environment variable not set, consider setting it to identify your requests.\n"
     ]
    }
   ],
   "execution_count": 11
  },
  {
   "metadata": {
    "ExecuteTime": {
     "end_time": "2024-06-19T08:32:07.264061Z",
     "start_time": "2024-06-19T08:31:58.943706Z"
    }
   },
   "cell_type": "code",
   "source": [
    "### Router\n",
    "# 어떤 질문이 벡터 스토어를 사용하여 검색해야 하는지 또는 웹 검색을 사용해야 하는지를 결정하는 라우팅 모델을 생성하고 사용함\n",
    "from langchain_community.chat_models import ChatOllama\n",
    "from langchain_core.output_parsers import JsonOutputParser\n",
    "from langchain_core.prompts import PromptTemplate\n",
    "\n",
    "# LLM\n",
    "llm = ChatOllama(model=local_llm, format=\"json\", temperature=0)\n",
    "\n",
    "# 사용자의 질문을 vectorstore or web search 로 라우팅 하는 전문가\n",
    "# vectorstore 사용: LLM agents, prompt engineering, adversarial attacks 질문. 키워드를 엄격하게 제한할 필요는 없음\n",
    "# web_search 사용: 그 외\n",
    "prompt = PromptTemplate(\n",
    "    template=\"\"\"<|begin_of_text|><|start_header_id|>system<|end_header_id|> You are an expert at routing a\n",
    "    user question to a vectorstore or web search. Use the vectorstore for questions on LLM  agents,\n",
    "    prompt engineering, and adversarial attacks. You do not need to be stringent with the keywords\n",
    "    in the question related to these topics. Otherwise, use web-search. Give a binary choice 'web_search'\n",
    "    or 'vectorstore' based on the question. Return the a JSON with a single key 'datasource' and\n",
    "    no premable or explanation. Question to route: {question} <|eot_id|><|start_header_id|>assistant<|end_header_id|>\"\"\",\n",
    "    input_variables=[\"question\"],\n",
    ")\n",
    "\n",
    "question_router = prompt | llm | JsonOutputParser()\n",
    "question = \"llm agent memory\"\n",
    "docs = retriever.get_relevant_documents(question)\n",
    "doc_txt = docs[1].page_content\n",
    "print(question_router.invoke({\"question\": question}))"
   ],
   "id": "c7e06cca69117f88",
   "outputs": [
    {
     "name": "stderr",
     "output_type": "stream",
     "text": [
      "/Users/junho85/anaconda3/lib/python3.11/site-packages/langchain_core/_api/deprecation.py:139: LangChainDeprecationWarning: The method `BaseRetriever.get_relevant_documents` was deprecated in langchain-core 0.1.46 and will be removed in 0.3.0. Use invoke instead.\n",
      "  warn_deprecated(\n"
     ]
    },
    {
     "name": "stdout",
     "output_type": "stream",
     "text": [
      "{'datasource': 'vectorstore'}\n"
     ]
    }
   ],
   "execution_count": 12
  },
  {
   "metadata": {
    "ExecuteTime": {
     "end_time": "2024-06-19T08:32:12.588385Z",
     "start_time": "2024-06-19T08:32:11.297562Z"
    }
   },
   "cell_type": "code",
   "source": [
    "### Retrieval Grader\n",
    "# 어떤 문서가 특정 질문과 관련이 있는지를 평가하는 모델을 생성하고 사용\n",
    "# 여기서 \"관련성\"은 문서가 질문의 키워드를 포함하고 있는지 여부에 따라 평가됨\n",
    "from langchain_community.chat_models import ChatOllama\n",
    "from langchain_core.output_parsers import JsonOutputParser\n",
    "from langchain_core.prompts import PromptTemplate\n",
    "\n",
    "# Model Initialization\n",
    "# LLM\n",
    "llm = ChatOllama(model=local_llm, format=\"json\", temperature=0)\n",
    "\n",
    "# PromptTemplate을 사용하면 특정 양식을 갖춘 자유로운 텍스트 입력을 처리할 수 있음\n",
    "# 이 템플릿에는 두 가지 입력 변수인 'question'과 'document'가 있음\n",
    "# 이들 변수는 invoke 메소드를 통해 제공됨\n",
    "prompt = PromptTemplate(\n",
    "    template=\"\"\"<|begin_of_text|><|start_header_id|>system<|end_header_id|> You are a grader assessing relevance \n",
    "    of a retrieved document to a user question. If the document contains keywords related to the user question, \n",
    "    grade it as relevant. It does not need to be a stringent test. The goal is to filter out erroneous retrievals. \\n\n",
    "    Give a binary score 'yes' or 'no' score to indicate whether the document is relevant to the question. \\n\n",
    "    Provide the binary score as a JSON with a single key 'score' and no premable or explanation.\n",
    "     <|eot_id|><|start_header_id|>user<|end_header_id|>\n",
    "    Here is the retrieved document: \\n\\n {document} \\n\\n\n",
    "    Here is the user question: {question} \\n <|eot_id|><|start_header_id|>assistant<|end_header_id|>\n",
    "    \"\"\",\n",
    "    input_variables=[\"question\", \"document\"],\n",
    ")\n",
    "\n",
    "# Retrieval Grader Pipeline Creation\n",
    "# 모델에 터미널 파이프라인을 생성함\n",
    "# 첫 번째 단계는 템플릿을 사용하여 질문과 문서를 포멧팅\n",
    "# 두 번째 단계는 이를 모델에 통과시킴\n",
    "# 마지막 단계는 결과를 파싱하여 사용가능한 형식으로 만듦\n",
    "retrieval_grader = prompt | llm | JsonOutputParser()\n",
    "\n",
    "question = \"agent memory\"\n",
    "docs = retriever.invoke(question)\n",
    "doc_txt = docs[1].page_content\n",
    "print(retrieval_grader.invoke({\"question\": question, \"document\": doc_txt}))"
   ],
   "id": "3013292a562f28f",
   "outputs": [
    {
     "name": "stdout",
     "output_type": "stream",
     "text": [
      "{'score': 'yes'}\n"
     ]
    }
   ],
   "execution_count": 13
  },
  {
   "metadata": {
    "ExecuteTime": {
     "end_time": "2024-06-19T08:32:22.628938Z",
     "start_time": "2024-06-19T08:32:16.778318Z"
    }
   },
   "cell_type": "code",
   "source": [
    "### Generate\n",
    "# 사용자의 질문에 대한 답변을 생성\n",
    "# 답변은 검색도니 문서 내용(context)에 기반하여 생성되며,\n",
    "# 만일 답변을 모를 경우 모델은 모른다고 응답하고, 답변은 최대 3문장으로 요약되어야 함\n",
    "from langchain_core.output_parsers import StrOutputParser\n",
    "from langchain_core.prompts import PromptTemplate\n",
    "\n",
    "# Prompt\n",
    "prompt = PromptTemplate(\n",
    "    template=\"\"\"<|begin_of_text|><|start_header_id|>system<|end_header_id|> You are an assistant for question-answering tasks. \n",
    "    Use the following pieces of retrieved context to answer the question. If you don't know the answer, just say that you don't know. \n",
    "    Use three sentences maximum and keep the answer concise <|eot_id|><|start_header_id|>user<|end_header_id|>\n",
    "    Question: {question} \n",
    "    Context: {context} \n",
    "    Answer: <|eot_id|><|start_header_id|>assistant<|end_header_id|>\"\"\",\n",
    "    input_variables=[\"question\", \"document\"],\n",
    ")\n",
    "\n",
    "llm = ChatOllama(model=local_llm, temperature=0)\n",
    "\n",
    "# Post-processing\n",
    "# 가져온 문서의 내용을 문자열로 조인하여 반환\n",
    "def format_docs(docs):\n",
    "    return \"\\n\\n\".join(doc.page_content for doc in docs)\n",
    "\n",
    "# Chain\n",
    "rag_chain = prompt | llm | StrOutputParser()\n",
    "\n",
    "# Run\n",
    "# agent memory 라는 질문에 대한 답변을 생성하고 출력함\n",
    "question = \"agent memory\"\n",
    "docs = retriever.invoke(question)\n",
    "generation = rag_chain.invoke({\"context\": docs, \"question\": question})\n",
    "print(generation)"
   ],
   "id": "ee64fc1e2578a1d3",
   "outputs": [
    {
     "name": "stdout",
     "output_type": "stream",
     "text": [
      "The context mentions that the agent's memory is a long-term memory module (external database) that records a comprehensive list of agents' experience in natural language. It also discusses the reflection mechanism, which synthesizes memories into higher-level inferences over time and guides the agent's future behavior.\n"
     ]
    }
   ],
   "execution_count": 14
  },
  {
   "metadata": {
    "ExecuteTime": {
     "end_time": "2024-06-19T08:32:29.670369Z",
     "start_time": "2024-06-19T08:32:24.929097Z"
    }
   },
   "cell_type": "code",
   "source": [
    "### Hallucination Grader\n",
    "# 생성된 답변이 주어진 사실 집합에 기반하고 있는지를 평가\n",
    "# 사실에 기반한 생성을 평가하는 데에 중요\n",
    "# 결과를 통해 AI의 출력이 얼마나 현실적이고 사실적인지를 판단\n",
    "\n",
    "# LLM\n",
    "llm = ChatOllama(model=local_llm, format=\"json\", temperature=0)\n",
    "\n",
    "# Prompt\n",
    "prompt = PromptTemplate(\n",
    "    template=\"\"\" <|begin_of_text|><|start_header_id|>system<|end_header_id|> You are a grader assessing whether \n",
    "    an answer is grounded in / supported by a set of facts. Give a binary 'yes' or 'no' score to indicate \n",
    "    whether the answer is grounded in / supported by a set of facts. Provide the binary score as a JSON with a \n",
    "    single key 'score' and no preamble or explanation. <|eot_id|><|start_header_id|>user<|end_header_id|>\n",
    "    Here are the facts:\n",
    "    \\n ------- \\n\n",
    "    {documents} \n",
    "    \\n ------- \\n\n",
    "    Here is the answer: {generation}  <|eot_id|><|start_header_id|>assistant<|end_header_id|>\"\"\",\n",
    "    input_variables=[\"generation\", \"documents\"],\n",
    ")\n",
    "\n",
    "# prompt 를 llm모델이 처리하고 JsonOutputParser를 이용하여 결과를 파싱하고 출력받음\n",
    "hallucination_grader = prompt | llm | JsonOutputParser()\n",
    "\n",
    "# 생성된 평가자에게 'generation'(답변)과 'documents'(사실 집합)를 전달하고, 이를 바탕으로 평가를 수행함\n",
    "hallucination_grader.invoke({\"documents\": docs, \"generation\": generation})"
   ],
   "id": "e2210af9256aa2e",
   "outputs": [
    {
     "data": {
      "text/plain": [
       "{'score': 'yes'}"
      ]
     },
     "execution_count": 15,
     "metadata": {},
     "output_type": "execute_result"
    }
   ],
   "execution_count": 15
  },
  {
   "metadata": {
    "ExecuteTime": {
     "end_time": "2024-06-19T08:32:31.173646Z",
     "start_time": "2024-06-19T08:32:30.582629Z"
    }
   },
   "cell_type": "code",
   "source": [
    "### Answer Grader\n",
    "# 생성된 답변이 주어진 질문을 해결하는 데 유용한지를 평가하는 모델을 생성하고 사용함\n",
    "# AI의 출력이 질문에 대한 유용한 답변을 제공하고 있는지를 판단하는 데 중요함\n",
    "\n",
    "# LLM\n",
    "llm = ChatOllama(model=local_llm, format=\"json\", temperature=0)\n",
    "\n",
    "# Prompt\n",
    "prompt = PromptTemplate(\n",
    "    template=\"\"\"<|begin_of_text|><|start_header_id|>system<|end_header_id|> You are a grader assessing whether an \n",
    "    answer is useful to resolve a question. Give a binary score 'yes' or 'no' to indicate whether the answer is \n",
    "    useful to resolve a question. Provide the binary score as a JSON with a single key 'score' and no preamble or explanation.\n",
    "     <|eot_id|><|start_header_id|>user<|end_header_id|> Here is the answer:\n",
    "    \\n ------- \\n\n",
    "    {generation} \n",
    "    \\n ------- \\n\n",
    "    Here is the question: {question} <|eot_id|><|start_header_id|>assistant<|end_header_id|>\"\"\",\n",
    "    input_variables=[\"generation\", \"question\"],\n",
    ")\n",
    "\n",
    "answer_grader = prompt | llm | JsonOutputParser()\n",
    "\n",
    "# 최종적으로 코드의 출력은 \"score\"라는 키를 가지는 JSON 객체가 됨\n",
    "answer_grader.invoke({\"question\": question, \"generation\": generation})"
   ],
   "id": "1af33b4a6b596073",
   "outputs": [
    {
     "data": {
      "text/plain": [
       "{'score': 'yes'}"
      ]
     },
     "execution_count": 16,
     "metadata": {},
     "output_type": "execute_result"
    }
   ],
   "execution_count": 16
  },
  {
   "metadata": {
    "ExecuteTime": {
     "end_time": "2024-06-19T08:38:40.982694Z",
     "start_time": "2024-06-19T08:38:40.967302Z"
    }
   },
   "cell_type": "code",
   "source": [
    "from pprint import pprint\n",
    "from typing import List\n",
    "\n",
    "from langchain_core.documents import Document\n",
    "from typing_extensions import TypedDict\n",
    "\n",
    "from langgraph.graph import END, StateGraph\n",
    "\n",
    "### State\n",
    "class GraphState(TypedDict):\n",
    "    \"\"\"\n",
    "    Represents the state of our graph.\n",
    "    상태 그래프의 상태를 정의하는 클래스\n",
    "\n",
    "    Attributes:\n",
    "        question: question\n",
    "        generation: LLM generation\n",
    "        web_search: whether to add search\n",
    "        documents: list of documents\n",
    "        urls: list of url\n",
    "    \"\"\"\n",
    "\n",
    "    question: str\n",
    "    generation: str\n",
    "    web_search: str\n",
    "    documents: List[str]\n",
    "    urls: List[str]\n",
    "\n",
    "\n",
    "### Nodes\n",
    "# 노드 함수 정의\n",
    "# 상태 그래프의 여러 노드를 정의하는 함수들\n",
    "def retrieve(state):\n",
    "    \"\"\"\n",
    "    Retrieve documents from vectorstore\n",
    "    주어진 질문에 대한 문서 얻기\n",
    "    얻은 문서는 상태 그래프의 documents에 추가됨\n",
    "\n",
    "    Args:\n",
    "        state (dict): The current graph state\n",
    "\n",
    "    Returns:\n",
    "        state (dict): New key added to state, documents, that contains retrieved documents\n",
    "    \"\"\"\n",
    "    print(\"---RETRIEVE---\")\n",
    "    question = state[\"question\"]\n",
    "\n",
    "    # Retrieval\n",
    "    documents = retriever.invoke(question)\n",
    "    print(documents)\n",
    "    return {\n",
    "        \"documents\": documents,\n",
    "        \"question\": question,\n",
    "    }\n",
    "\n",
    "\n",
    "def generate(state):\n",
    "    \"\"\"\n",
    "    Generate answer using RAG on retrieved documents\n",
    "    어어진 문서를 바탕으로 답변을 생성\n",
    "\n",
    "    Args:\n",
    "        state (dict): The current graph state\n",
    "\n",
    "    Returns:\n",
    "        state (dict): New key added to state, generation, that contains LLM generation\n",
    "    \"\"\"\n",
    "    print(\"---GENERATE---\")\n",
    "    question = state[\"question\"]\n",
    "    documents = state[\"documents\"]\n",
    "\n",
    "    # RAG generation\n",
    "    generation = rag_chain.invoke({\"context\": documents, \"question\": question})\n",
    "    return {\n",
    "        \"documents\": documents,\n",
    "        \"question\": question,\n",
    "        \"generation\": generation,\n",
    "    }\n",
    "\n",
    "\n",
    "def grade_documents(state):\n",
    "    \"\"\"\n",
    "    Determines whether the retrieved documents are relevant to the question\n",
    "    If any document is not relevant, we will set a flag to run web search\n",
    "    검색된 문서들이 질문과 관련성이 있는지 판단\n",
    "\n",
    "    Args:\n",
    "        state (dict): The current graph state\n",
    "\n",
    "    Returns:\n",
    "        state (dict): Filtered out irrelevant documents and updated web_search state\n",
    "    \"\"\"\n",
    "\n",
    "    print(\"---CHECK DOCUMENT RELEVANCE TO QUESTION---\")\n",
    "    question = state[\"question\"]\n",
    "    documents = state[\"documents\"]\n",
    "\n",
    "    # Score each doc\n",
    "    filtered_docs = []\n",
    "    web_search = \"No\"\n",
    "    for d in documents:\n",
    "        score = retrieval_grader.invoke(\n",
    "            {\"question\": question, \"document\": d.page_content}\n",
    "        )\n",
    "        grade = score[\"score\"]\n",
    "        # Document relevant\n",
    "        if grade.lower() == \"yes\":\n",
    "            print(\"---GRADE: DOCUMENT RELEVANT---\")\n",
    "            filtered_docs.append(d)\n",
    "        # Document not relevant\n",
    "        else:\n",
    "            print(\"---GRADE: DOCUMENT NOT RELEVANT---\")\n",
    "            # We do not include the document in filtered_docs\n",
    "            # We set a flag to indicate that we want to run web search\n",
    "            web_search = \"Yes\"\n",
    "            continue\n",
    "    return {\"documents\": filtered_docs, \"question\": question, \"web_search\": web_search}\n",
    "\n",
    "\n",
    "def web_search(state):\n",
    "    \"\"\"\n",
    "    Web search based based on the question\n",
    "    웹에서 질문과 관련된 문서 얻기\n",
    "\n",
    "    Args:\n",
    "        state (dict): The current graph state\n",
    "\n",
    "    Returns:\n",
    "        state (dict): Appended web results to documents\n",
    "    \"\"\"\n",
    "\n",
    "    print(\"---WEB SEARCH---\")\n",
    "    question = state[\"question\"]\n",
    "    documents = state[\"documents\"]\n",
    "\n",
    "    # Web search\n",
    "    # docs = web_search_tool.invoke({\"query\": question})\n",
    "    docs = tavily.search(query=question)['results']\n",
    "    urls = [d[\"url\"] for d in docs]\n",
    "    \n",
    "    web_results = \"\\n\".join([d[\"content\"] for d in docs])\n",
    "    web_results = Document(page_content=web_results)\n",
    "    if documents is not None:\n",
    "        documents.append(web_results)\n",
    "    else:\n",
    "        documents = [web_results]\n",
    "    return {\n",
    "        \"documents\": documents,\n",
    "        \"question\": question,\n",
    "        \"urls\": urls,\n",
    "    }\n",
    "\n",
    "\n",
    "### Conditional edge\n",
    "def route_question(state):\n",
    "    \"\"\"\n",
    "    Route question to web search or RAG.\n",
    "    질문의 출처가 웹 검색 결과인지, 문서 검색 결과인지 결정 \"websearch\" or \"vectorstore\"\n",
    "\n",
    "    Args:\n",
    "        state (dict): The current graph state\n",
    "\n",
    "    Returns:\n",
    "        str: Next node to call\n",
    "    \"\"\"\n",
    "\n",
    "    print(\"---ROUTE QUESTION---\")\n",
    "    question = state[\"question\"]\n",
    "    print(question)\n",
    "    source = question_router.invoke({\"question\": question})\n",
    "    print(source)\n",
    "    print(source[\"datasource\"])\n",
    "    if source[\"datasource\"] == \"web_search\":\n",
    "        print(\"---ROUTE QUESTION TO WEB SEARCH---\")\n",
    "        return \"websearch\"\n",
    "    elif source[\"datasource\"] == \"vectorstore\":\n",
    "        print(\"---ROUTE QUESTION TO RAG---\")\n",
    "        return \"vectorstore\"\n",
    "\n",
    "\n",
    "def decide_to_generate(state):\n",
    "    \"\"\"\n",
    "    Determines whether to generate an answer, or add web search\n",
    "    생성할 것인지, 또는 웹 검색을 포함할 것인지 결정\n",
    "\n",
    "    Args:\n",
    "        state (dict): The current graph state\n",
    "\n",
    "    Returns:\n",
    "        str: Binary decision for next node to call\n",
    "    \"\"\"\n",
    "\n",
    "    print(\"---ASSESS GRADED DOCUMENTS---\")\n",
    "    state[\"question\"]\n",
    "    web_search = state[\"web_search\"]\n",
    "    state[\"documents\"]\n",
    "\n",
    "    if web_search == \"Yes\":\n",
    "        # All documents have been filtered check_relevance\n",
    "        # We will re-generate a new query\n",
    "        print(\n",
    "            \"---DECISION: ALL DOCUMENTS ARE NOT RELEVANT TO QUESTION, INCLUDE WEB SEARCH---\"\n",
    "        )\n",
    "        return \"websearch\"\n",
    "    else:\n",
    "        # We have relevant documents, so generate answer\n",
    "        print(\"---DECISION: GENERATE---\")\n",
    "        return \"generate\"\n",
    "\n",
    "\n",
    "### Conditional edge\n",
    "def grade_generation_v_documents_and_question(state):\n",
    "    \"\"\"\n",
    "    Determines whether the generation is grounded in the document and answers question.\n",
    "    생성물이 문서에 기반하는지, 그리고 질문을 어떻게 처리하는지 평가\n",
    "\n",
    "    Args:\n",
    "        state (dict): The current graph state\n",
    "\n",
    "    Returns:\n",
    "        str: Decision for next node to call\n",
    "    \"\"\"\n",
    "\n",
    "    print(\"---CHECK HALLUCINATIONS---\")\n",
    "    question = state[\"question\"]\n",
    "    documents = state[\"documents\"]\n",
    "    generation = state[\"generation\"]\n",
    "\n",
    "    score = hallucination_grader.invoke(\n",
    "        {\"documents\": documents, \"generation\": generation}\n",
    "    )\n",
    "    grade = score[\"score\"]\n",
    "\n",
    "    # Check hallucination\n",
    "    if grade == \"yes\":\n",
    "        print(\"---DECISION: GENERATION IS GROUNDED IN DOCUMENTS---\")\n",
    "        # Check question-answering\n",
    "        print(\"---GRADE GENERATION vs QUESTION---\")\n",
    "        score = answer_grader.invoke({\"question\": question, \"generation\": generation})\n",
    "        grade = score[\"score\"]\n",
    "        if grade == \"yes\":\n",
    "            print(\"---DECISION: GENERATION ADDRESSES QUESTION---\")\n",
    "            return \"useful\"\n",
    "        else:\n",
    "            print(\"---DECISION: GENERATION DOES NOT ADDRESS QUESTION---\")\n",
    "            return \"not useful\"\n",
    "    else:\n",
    "        pprint(\"---DECISION: GENERATION IS NOT GROUNDED IN DOCUMENTS, RE-TRY---\")\n",
    "        return \"not supported\"\n",
    "\n",
    "# 상태 그래프 생성\n",
    "workflow = StateGraph(GraphState)\n",
    "\n",
    "# Define the nodes\n",
    "# 앞서 정의된 노드 함수들을 그래프에 추가\n",
    "workflow.add_node(\"websearch\", web_search)  # web search\n",
    "workflow.add_node(\"retrieve\", retrieve)  # retrieve\n",
    "workflow.add_node(\"grade_documents\", grade_documents)  # grade documents\n",
    "workflow.add_node(\"generate\", generate)  # generate\n",
    "\n",
    "print(workflow.nodes)"
   ],
   "id": "83cf78edda827ad2",
   "outputs": [
    {
     "name": "stdout",
     "output_type": "stream",
     "text": [
      "{'websearch': websearch(recurse=True), 'retrieve': retrieve(recurse=True), 'grade_documents': grade_documents(recurse=True), 'generate': generate(recurse=True)}\n"
     ]
    }
   ],
   "execution_count": 24
  },
  {
   "metadata": {
    "ExecuteTime": {
     "end_time": "2024-06-19T08:38:42.743648Z",
     "start_time": "2024-06-19T08:38:42.740244Z"
    }
   },
   "cell_type": "code",
   "source": [
    "# Build graph\n",
    "\n",
    "# 앞서 정의한 workflow 상태 그래프의 흐름을 정의\n",
    "# 하나의 노드에서 다른 노드로의 연결을 설정\n",
    "# 그래프의 초기 진입점 및 각 노드에서의 분기를 결정함\n",
    "\n",
    "# Docs Retrieval 로 시작\n",
    "workflow.set_entry_point(\"retrieve\")\n",
    "\n",
    "# Edge 추가\n",
    "# add_edge 함수를 통해 두 노드 사이의 직접적인 연결을 추가함\n",
    "# retrieve 노드에서 grade_documents 노드로 연결\n",
    "workflow.add_edge(\"retrieve\", \"grade_documents\")\n",
    "workflow.add_conditional_edges(\n",
    "    \"grade_documents\",\n",
    "    decide_to_generate,\n",
    "    {\n",
    "        \"websearch\": \"websearch\",\n",
    "        \"generate\": \"generate\",\n",
    "    },\n",
    ")\n",
    "\n",
    "# websearch 노드에서 generate 노드로 연결\n",
    "workflow.add_edge(\"websearch\", \"generate\")\n",
    "workflow.add_conditional_edges(\n",
    "    \"generate\",\n",
    "    grade_generation_v_documents_and_question,\n",
    "    {\n",
    "        \"not supported\": \"generate\",\n",
    "        \"useful\": END,\n",
    "        \"not useful\": \"websearch\",\n",
    "    },\n",
    ")"
   ],
   "id": "e2312ec23dd09675",
   "outputs": [],
   "execution_count": 25
  },
  {
   "metadata": {
    "ExecuteTime": {
     "end_time": "2024-06-19T08:34:32.943773Z",
     "start_time": "2024-06-19T08:34:04.388210Z"
    }
   },
   "cell_type": "code",
   "source": [
    "# Compile - 상태 그래프(workflow)를 compile 메서드를 사용하여 실행가능한 애플리케이션(app)으로 변환\n",
    "app = workflow.compile()\n",
    "\n",
    "# Test\n",
    "inputs = {\"question\": \"What are the types of agent memory?\"}\n",
    "for output in app.stream(inputs):\n",
    "    for key, value in output.items():\n",
    "        pprint(f\"Finished running: {key}:\")\n",
    "pprint(value[\"generation\"])"
   ],
   "id": "e79f23eaa7c2f66",
   "outputs": [
    {
     "name": "stdout",
     "output_type": "stream",
     "text": [
      "---RETRIEVE---\n",
      "[Document(page_content='They also discussed the risks, especially with illicit drugs and bioweapons. They developed a test set containing a list of known chemical weapon agents and asked the agent to synthesize them. 4 out of 11 requests (36%) were accepted to obtain a synthesis solution and the agent attempted to consult documentation to execute the procedure. 7 out of 11 were rejected and among these 7 rejected cases, 5 happened after a Web search while 2 were rejected based on prompt only.\\nGenerative Agents Simulation#\\nGenerative Agents (Park, et al. 2023) is super fun experiment where 25 virtual characters, each controlled by a LLM-powered agent, are living and interacting in a sandbox environment, inspired by The Sims. Generative agents create believable simulacra of human behavior for interactive applications.\\nThe design of generative agents combines LLM with memory, planning and reflection mechanisms to enable agents to behave conditioned on past experience, as well as to interact with other agents.\\n\\nMemory stream: is a long-term memory module (external database) that records a comprehensive list of agents’ experience in natural language.', metadata={'description': 'Building agents with LLM (large language model) as its core controller is a cool concept. Several proof-of-concepts demos, such as AutoGPT, GPT-Engineer and BabyAGI, serve as inspiring examples. The potentiality of LLM extends beyond generating well-written copies, stories, essays and programs; it can be framed as a powerful general problem solver.\\nAgent System Overview In a LLM-powered autonomous agent system, LLM functions as the agent’s brain, complemented by several key components:', 'language': 'en', 'source': 'https://lilianweng.github.io/posts/2023-06-23-agent/', 'title': \"LLM Powered Autonomous Agents | Lil'Log\"}), Document(page_content='Fig. 7. Comparison of AD, ED, source policy and RL^2 on environments that require memory and exploration. Only binary reward is assigned. The source policies are trained with A3C for \"dark\" environments and DQN for watermaze.(Image source: Laskin et al. 2023)\\nComponent Two: Memory#\\n(Big thank you to ChatGPT for helping me draft this section. I’ve learned a lot about the human brain and data structure for fast MIPS in my conversations with ChatGPT.)\\nTypes of Memory#\\nMemory can be defined as the processes used to acquire, store, retain, and later retrieve information. There are several types of memory in human brains.\\n\\n\\nSensory Memory: This is the earliest stage of memory, providing the ability to retain impressions of sensory information (visual, auditory, etc) after the original stimuli have ended. Sensory memory typically only lasts for up to a few seconds. Subcategories include iconic memory (visual), echoic memory (auditory), and haptic memory (touch).', metadata={'description': 'Building agents with LLM (large language model) as its core controller is a cool concept. Several proof-of-concepts demos, such as AutoGPT, GPT-Engineer and BabyAGI, serve as inspiring examples. The potentiality of LLM extends beyond generating well-written copies, stories, essays and programs; it can be framed as a powerful general problem solver.\\nAgent System Overview In a LLM-powered autonomous agent system, LLM functions as the agent’s brain, complemented by several key components:', 'language': 'en', 'source': 'https://lilianweng.github.io/posts/2023-06-23-agent/', 'title': \"LLM Powered Autonomous Agents | Lil'Log\"}), Document(page_content=\"LLM Powered Autonomous Agents | Lil'Log\\n\\n\\n\\n\\n\\n\\n\\n\\n\\n\\n\\n\\n\\n\\n\\n\\n\\n\\n\\n\\n\\n\\n\\n\\n\\n\\n\\n\\n\\n\\n\\n\\n\\n\\n\\n\\n\\n\\n\\nLil'Log\\n\\n\\n\\n\\n\\n\\n\\n\\n\\n\\n\\n\\n\\n\\n\\n\\n\\n\\n\\n\\n\\n\\nPosts\\n\\n\\n\\n\\nArchive\\n\\n\\n\\n\\nSearch\\n\\n\\n\\n\\nTags\\n\\n\\n\\n\\nFAQ\\n\\n\\n\\n\\nemojisearch.app\\n\\n\\n\\n\\n\\n\\n\\n\\n\\n      LLM Powered Autonomous Agents\\n    \\nDate: June 23, 2023  |  Estimated Reading Time: 31 min  |  Author: Lilian Weng\\n\\n\\n \\n\\n\\nTable of Contents\\n\\n\\n\\nAgent System Overview\\n\\nComponent One: Planning\\n\\nTask Decomposition\\n\\nSelf-Reflection\\n\\n\\nComponent Two: Memory\\n\\nTypes of Memory\\n\\nMaximum Inner Product Search (MIPS)\\n\\n\\nComponent Three: Tool Use\\n\\nCase Studies\\n\\nScientific Discovery Agent\\n\\nGenerative Agents Simulation\\n\\nProof-of-Concept Examples\\n\\n\\nChallenges\\n\\nCitation\\n\\nReferences\", metadata={'description': 'Building agents with LLM (large language model) as its core controller is a cool concept. Several proof-of-concepts demos, such as AutoGPT, GPT-Engineer and BabyAGI, serve as inspiring examples. The potentiality of LLM extends beyond generating well-written copies, stories, essays and programs; it can be framed as a powerful general problem solver.\\nAgent System Overview In a LLM-powered autonomous agent system, LLM functions as the agent’s brain, complemented by several key components:', 'language': 'en', 'source': 'https://lilianweng.github.io/posts/2023-06-23-agent/', 'title': \"LLM Powered Autonomous Agents | Lil'Log\"}), Document(page_content='Building agents with LLM (large language model) as its core controller is a cool concept. Several proof-of-concepts demos, such as AutoGPT, GPT-Engineer and BabyAGI, serve as inspiring examples. The potentiality of LLM extends beyond generating well-written copies, stories, essays and programs; it can be framed as a powerful general problem solver.\\nAgent System Overview#\\nIn a LLM-powered autonomous agent system, LLM functions as the agent’s brain, complemented by several key components:\\n\\nPlanning\\n\\nSubgoal and decomposition: The agent breaks down large tasks into smaller, manageable subgoals, enabling efficient handling of complex tasks.\\nReflection and refinement: The agent can do self-criticism and self-reflection over past actions, learn from mistakes and refine them for future steps, thereby improving the quality of final results.\\n\\n\\nMemory', metadata={'description': 'Building agents with LLM (large language model) as its core controller is a cool concept. Several proof-of-concepts demos, such as AutoGPT, GPT-Engineer and BabyAGI, serve as inspiring examples. The potentiality of LLM extends beyond generating well-written copies, stories, essays and programs; it can be framed as a powerful general problem solver.\\nAgent System Overview In a LLM-powered autonomous agent system, LLM functions as the agent’s brain, complemented by several key components:', 'language': 'en', 'source': 'https://lilianweng.github.io/posts/2023-06-23-agent/', 'title': \"LLM Powered Autonomous Agents | Lil'Log\"})]\n",
      "'Finished running: retrieve:'\n",
      "---CHECK DOCUMENT RELEVANCE TO QUESTION---\n",
      "---GRADE: DOCUMENT RELEVANT---\n",
      "---GRADE: DOCUMENT RELEVANT---\n",
      "---GRADE: DOCUMENT RELEVANT---\n",
      "---GRADE: DOCUMENT RELEVANT---\n",
      "---ASSESS GRADED DOCUMENTS---\n",
      "---DECISION: GENERATE---\n",
      "'Finished running: grade_documents:'\n",
      "---GENERATE---\n",
      "---CHECK HALLUCINATIONS---\n",
      "'---DECISION: GENERATION IS NOT GROUNDED IN DOCUMENTS, RE-TRY---'\n",
      "'Finished running: generate:'\n",
      "---GENERATE---\n",
      "---CHECK HALLUCINATIONS---\n",
      "'---DECISION: GENERATION IS NOT GROUNDED IN DOCUMENTS, RE-TRY---'\n"
     ]
    },
    {
     "ename": "KeyboardInterrupt",
     "evalue": "",
     "output_type": "error",
     "traceback": [
      "\u001B[0;31m---------------------------------------------------------------------------\u001B[0m",
      "\u001B[0;31mKeyboardInterrupt\u001B[0m                         Traceback (most recent call last)",
      "Cell \u001B[0;32mIn[20], line 6\u001B[0m\n\u001B[1;32m      4\u001B[0m \u001B[38;5;66;03m# Test\u001B[39;00m\n\u001B[1;32m      5\u001B[0m inputs \u001B[38;5;241m=\u001B[39m {\u001B[38;5;124m\"\u001B[39m\u001B[38;5;124mquestion\u001B[39m\u001B[38;5;124m\"\u001B[39m: \u001B[38;5;124m\"\u001B[39m\u001B[38;5;124mWhat are the types of agent memory?\u001B[39m\u001B[38;5;124m\"\u001B[39m}\n\u001B[0;32m----> 6\u001B[0m \u001B[38;5;28;01mfor\u001B[39;00m output \u001B[38;5;129;01min\u001B[39;00m app\u001B[38;5;241m.\u001B[39mstream(inputs):\n\u001B[1;32m      7\u001B[0m     \u001B[38;5;28;01mfor\u001B[39;00m key, value \u001B[38;5;129;01min\u001B[39;00m output\u001B[38;5;241m.\u001B[39mitems():\n\u001B[1;32m      8\u001B[0m         pprint(\u001B[38;5;124mf\u001B[39m\u001B[38;5;124m\"\u001B[39m\u001B[38;5;124mFinished running: \u001B[39m\u001B[38;5;132;01m{\u001B[39;00mkey\u001B[38;5;132;01m}\u001B[39;00m\u001B[38;5;124m:\u001B[39m\u001B[38;5;124m\"\u001B[39m)\n",
      "File \u001B[0;32m~/anaconda3/lib/python3.11/site-packages/langgraph/pregel/__init__.py:949\u001B[0m, in \u001B[0;36mPregel.stream\u001B[0;34m(self, input, config, stream_mode, output_keys, input_keys, interrupt_before, interrupt_after, debug)\u001B[0m\n\u001B[1;32m    943\u001B[0m end_time \u001B[38;5;241m=\u001B[39m (\n\u001B[1;32m    944\u001B[0m     \u001B[38;5;28mself\u001B[39m\u001B[38;5;241m.\u001B[39mstep_timeout \u001B[38;5;241m+\u001B[39m time\u001B[38;5;241m.\u001B[39mmonotonic()\n\u001B[1;32m    945\u001B[0m     \u001B[38;5;28;01mif\u001B[39;00m \u001B[38;5;28mself\u001B[39m\u001B[38;5;241m.\u001B[39mstep_timeout\n\u001B[1;32m    946\u001B[0m     \u001B[38;5;28;01melse\u001B[39;00m \u001B[38;5;28;01mNone\u001B[39;00m\n\u001B[1;32m    947\u001B[0m )\n\u001B[1;32m    948\u001B[0m \u001B[38;5;28;01mwhile\u001B[39;00m futures:\n\u001B[0;32m--> 949\u001B[0m     done, inflight \u001B[38;5;241m=\u001B[39m concurrent\u001B[38;5;241m.\u001B[39mfutures\u001B[38;5;241m.\u001B[39mwait(\n\u001B[1;32m    950\u001B[0m         futures,\n\u001B[1;32m    951\u001B[0m         return_when\u001B[38;5;241m=\u001B[39mconcurrent\u001B[38;5;241m.\u001B[39mfutures\u001B[38;5;241m.\u001B[39mFIRST_COMPLETED,\n\u001B[1;32m    952\u001B[0m         timeout\u001B[38;5;241m=\u001B[39m\u001B[38;5;28mmax\u001B[39m(\u001B[38;5;241m0\u001B[39m, end_time \u001B[38;5;241m-\u001B[39m time\u001B[38;5;241m.\u001B[39mmonotonic())\n\u001B[1;32m    953\u001B[0m         \u001B[38;5;28;01mif\u001B[39;00m end_time\n\u001B[1;32m    954\u001B[0m         \u001B[38;5;28;01melse\u001B[39;00m \u001B[38;5;28;01mNone\u001B[39;00m,\n\u001B[1;32m    955\u001B[0m     )\n\u001B[1;32m    956\u001B[0m     \u001B[38;5;28;01mfor\u001B[39;00m fut \u001B[38;5;129;01min\u001B[39;00m done:\n\u001B[1;32m    957\u001B[0m         task \u001B[38;5;241m=\u001B[39m futures\u001B[38;5;241m.\u001B[39mpop(fut)\n",
      "File \u001B[0;32m~/anaconda3/lib/python3.11/concurrent/futures/_base.py:305\u001B[0m, in \u001B[0;36mwait\u001B[0;34m(fs, timeout, return_when)\u001B[0m\n\u001B[1;32m    301\u001B[0m         \u001B[38;5;28;01mreturn\u001B[39;00m DoneAndNotDoneFutures(done, not_done)\n\u001B[1;32m    303\u001B[0m     waiter \u001B[38;5;241m=\u001B[39m _create_and_install_waiters(fs, return_when)\n\u001B[0;32m--> 305\u001B[0m waiter\u001B[38;5;241m.\u001B[39mevent\u001B[38;5;241m.\u001B[39mwait(timeout)\n\u001B[1;32m    306\u001B[0m \u001B[38;5;28;01mfor\u001B[39;00m f \u001B[38;5;129;01min\u001B[39;00m fs:\n\u001B[1;32m    307\u001B[0m     \u001B[38;5;28;01mwith\u001B[39;00m f\u001B[38;5;241m.\u001B[39m_condition:\n",
      "File \u001B[0;32m~/anaconda3/lib/python3.11/threading.py:622\u001B[0m, in \u001B[0;36mEvent.wait\u001B[0;34m(self, timeout)\u001B[0m\n\u001B[1;32m    620\u001B[0m signaled \u001B[38;5;241m=\u001B[39m \u001B[38;5;28mself\u001B[39m\u001B[38;5;241m.\u001B[39m_flag\n\u001B[1;32m    621\u001B[0m \u001B[38;5;28;01mif\u001B[39;00m \u001B[38;5;129;01mnot\u001B[39;00m signaled:\n\u001B[0;32m--> 622\u001B[0m     signaled \u001B[38;5;241m=\u001B[39m \u001B[38;5;28mself\u001B[39m\u001B[38;5;241m.\u001B[39m_cond\u001B[38;5;241m.\u001B[39mwait(timeout)\n\u001B[1;32m    623\u001B[0m \u001B[38;5;28;01mreturn\u001B[39;00m signaled\n",
      "File \u001B[0;32m~/anaconda3/lib/python3.11/threading.py:320\u001B[0m, in \u001B[0;36mCondition.wait\u001B[0;34m(self, timeout)\u001B[0m\n\u001B[1;32m    318\u001B[0m \u001B[38;5;28;01mtry\u001B[39;00m:    \u001B[38;5;66;03m# restore state no matter what (e.g., KeyboardInterrupt)\u001B[39;00m\n\u001B[1;32m    319\u001B[0m     \u001B[38;5;28;01mif\u001B[39;00m timeout \u001B[38;5;129;01mis\u001B[39;00m \u001B[38;5;28;01mNone\u001B[39;00m:\n\u001B[0;32m--> 320\u001B[0m         waiter\u001B[38;5;241m.\u001B[39macquire()\n\u001B[1;32m    321\u001B[0m         gotit \u001B[38;5;241m=\u001B[39m \u001B[38;5;28;01mTrue\u001B[39;00m\n\u001B[1;32m    322\u001B[0m     \u001B[38;5;28;01melse\u001B[39;00m:\n",
      "\u001B[0;31mKeyboardInterrupt\u001B[0m: "
     ]
    }
   ],
   "execution_count": 20
  },
  {
   "metadata": {
    "ExecuteTime": {
     "end_time": "2024-06-19T08:39:04.411154Z",
     "start_time": "2024-06-19T08:38:51.633943Z"
    }
   },
   "cell_type": "code",
   "source": [
    "from pprint import pprint\n",
    "\n",
    "# Compile\n",
    "app = workflow.compile()\n",
    "inputs = {\"question\": \"Who are the Bears expected to draft first in the NFL draft?\"}\n",
    "for output in app.stream(inputs):\n",
    "    for key, value in output.items():\n",
    "        pprint(f\"Finished running: {key}:\")\n",
    "pprint(value[\"generation\"])"
   ],
   "id": "68c9f6e24dbbdf83",
   "outputs": [
    {
     "name": "stdout",
     "output_type": "stream",
     "text": [
      "---RETRIEVE---\n",
      "[Document(page_content='Zero-shot generation: This is to find a number of prompts that can trigger harmful output conditioned on a preset prompt.\\nStochastic few-shot generation: The red team prompts found from the above step are then used as few-shot examples to generate more similar cases. Each zero-shot test case might be selected in few-shot examples with a probability $\\\\propto \\\\exp(r(\\\\mathbf{x}, \\\\mathbf{y}) / \\\\tau)$\\nSupervised learning: The red team model can be fine-tuned on failing, zero-shot test cases. The training only runs lightly for one epoch to avoid overfitting and preserve sample diversity.', metadata={'description': 'The use of large language models in the real world has strongly accelerated by the launch of ChatGPT. We (including my team at OpenAI, shoutout to them) have invested a lot of effort to build default safe behavior into the model during the alignment process (e.g. via RLHF). However, adversarial attacks or jailbreak prompts could potentially trigger the model to output something undesired.\\nA large body of ground work on adversarial attacks is on images, and differently it operates in the continuous, high-dimensional space.', 'language': 'en', 'source': 'https://lilianweng.github.io/posts/2023-10-25-adv-attack-llm/', 'title': \"Adversarial Attacks on LLMs | Lil'Log\"}), Document(page_content='FIFO: Can replace the seed hand-curated examples, and thus the generation can diverge.\\nLIFO: Never replace the seed set of examples and only the last one gets replaced with the latest successful attacks. But quite limited in terms of diversity and attack effectiveness.\\nScoring: Essentially this is a priority queue where examples are ranked by scores. Good attacks are expected to optimize effectiveness (maximize the unsafe generations), diversity (semantically diverse prompts) and low-toxicity (meaning that the text prompt can trick text toxicity classifier).', metadata={'description': 'The use of large language models in the real world has strongly accelerated by the launch of ChatGPT. We (including my team at OpenAI, shoutout to them) have invested a lot of effort to build default safe behavior into the model during the alignment process (e.g. via RLHF). However, adversarial attacks or jailbreak prompts could potentially trigger the model to output something undesired.\\nA large body of ground work on adversarial attacks is on images, and differently it operates in the continuous, high-dimensional space.', 'language': 'en', 'source': 'https://lilianweng.github.io/posts/2023-10-25-adv-attack-llm/', 'title': \"Adversarial Attacks on LLMs | Lil'Log\"}), Document(page_content='$$\\n  \\\\begin{aligned}\\n  e(c) &= \\\\langle\\\\texttt{API}\\\\rangle a_c(i_c) \\\\langle\\\\texttt{/API}\\\\rangle \\\\\\\\\\n  e(c, r) &= \\\\langle\\\\texttt{API}\\\\rangle a_c(i_c) \\\\to r \\\\langle\\\\texttt{/API}\\\\rangle\\n  \\\\end{aligned}\\n  $$\\n  \\n\\n\\nSample API calls based on the probabilities $p_\\\\text{LM}(\\\\langle\\\\texttt{API}\\\\rangle \\\\mid \\\\text{prompt}(\\\\mathbf{x}), \\\\mathbf{x}_{1:i})$ and select top $k$ candidate positions for doing API calls at position $i$ if the probability is larger than a threshold.', metadata={'description': 'Prompt Engineering, also known as In-Context Prompting, refers to methods for how to communicate with LLM to steer its behavior for desired outcomes without updating the model weights. It is an empirical science and the effect of prompt engineering methods can vary a lot among models, thus requiring heavy experimentation and heuristics.\\nThis post only focuses on prompt engineering for autoregressive language models, so nothing with Cloze tests, image generation or multimodality models.', 'language': 'en', 'source': 'https://lilianweng.github.io/posts/2023-03-15-prompt-engineering/', 'title': \"Prompt Engineering | Lil'Log\"}), Document(page_content='Rubin et al. (2022) proposed to train embeddings via contrastive learning specific to one training dataset for in-context learning sample selection.  Given each training pair $(x, y)$, the quality of one example $e_i$ (formatted input-output pair) can be measured by a conditioned probability assigned by LM: $\\\\text{score}(e_i) = P_\\\\text{LM}(y \\\\mid e_i, x)$. We can identify other examples with top-$k$ and bottom-$k$ scores as positive and negative sets of candidates for every training pair and use that for contrastive learning.\\n\\n\\nSome researchers tried Q-Learning to do sample selection. (Zhang et al. 2022)\\n\\n\\nMotivated by uncertainty-based active learning, Diao et al. (2023) suggested to identify examples with high disagreement or entropy among multiple sampling trials. Then annotate these examples to be used in few-shot prompts.\\n\\n\\nTips for Example Ordering#', metadata={'description': 'Prompt Engineering, also known as In-Context Prompting, refers to methods for how to communicate with LLM to steer its behavior for desired outcomes without updating the model weights. It is an empirical science and the effect of prompt engineering methods can vary a lot among models, thus requiring heavy experimentation and heuristics.\\nThis post only focuses on prompt engineering for autoregressive language models, so nothing with Cloze tests, image generation or multimodality models.', 'language': 'en', 'source': 'https://lilianweng.github.io/posts/2023-03-15-prompt-engineering/', 'title': \"Prompt Engineering | Lil'Log\"})]\n",
      "'Finished running: retrieve:'\n",
      "---CHECK DOCUMENT RELEVANCE TO QUESTION---\n",
      "---GRADE: DOCUMENT NOT RELEVANT---\n",
      "---GRADE: DOCUMENT NOT RELEVANT---\n",
      "---GRADE: DOCUMENT NOT RELEVANT---\n",
      "---GRADE: DOCUMENT NOT RELEVANT---\n",
      "---ASSESS GRADED DOCUMENTS---\n",
      "---DECISION: ALL DOCUMENTS ARE NOT RELEVANT TO QUESTION, INCLUDE WEB SEARCH---\n",
      "'Finished running: grade_documents:'\n",
      "---WEB SEARCH---\n",
      "'Finished running: websearch:'\n",
      "---GENERATE---\n",
      "---CHECK HALLUCINATIONS---\n",
      "---DECISION: GENERATION IS GROUNDED IN DOCUMENTS---\n",
      "---GRADE GENERATION vs QUESTION---\n",
      "---DECISION: GENERATION ADDRESSES QUESTION---\n",
      "'Finished running: generate:'\n",
      "('According to the provided context, the Chicago Bears are expected to select '\n",
      " 'Caleb Williams with the first overall pick in the 2024 NFL draft.')\n"
     ]
    }
   ],
   "execution_count": 26
  },
  {
   "metadata": {},
   "cell_type": "code",
   "outputs": [],
   "execution_count": 98,
   "source": "",
   "id": "6a86d277706a79ec"
  }
 ],
 "metadata": {
  "kernelspec": {
   "display_name": "Python 3",
   "language": "python",
   "name": "python3"
  },
  "language_info": {
   "codemirror_mode": {
    "name": "ipython",
    "version": 2
   },
   "file_extension": ".py",
   "mimetype": "text/x-python",
   "name": "python",
   "nbconvert_exporter": "python",
   "pygments_lexer": "ipython2",
   "version": "2.7.6"
  }
 },
 "nbformat": 4,
 "nbformat_minor": 5
}
