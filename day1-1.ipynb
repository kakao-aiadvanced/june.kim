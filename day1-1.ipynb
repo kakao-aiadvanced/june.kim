{
 "cells": [
  {
   "cell_type": "markdown",
   "id": "ec5d5c6d",
   "metadata": {},
   "source": [
    "# Day1-1 실습\n",
    "https://github.com/FranxYao/chain-of-thought-hub/blob/main/gsm8k/gpt3.5turbo_gsm8k_complex.ipynb"
   ]
  },
  {
   "cell_type": "code",
   "execution_count": 1,
   "id": "aa0d7f7a",
   "metadata": {},
   "outputs": [],
   "source": [
    "# !pip install openai\n",
    "# !pip install datasets"
   ]
  },
  {
   "cell_type": "code",
   "execution_count": 2,
   "id": "29209d53",
   "metadata": {},
   "outputs": [],
   "source": [
    "from openai import OpenAI\n",
    "import re\n",
    "import time\n",
    "\n",
    "import numpy as np\n",
    "\n",
    "from tqdm import tqdm\n",
    "from datasets import load_dataset"
   ]
  },
  {
   "cell_type": "code",
   "execution_count": 3,
   "id": "d70023cb",
   "metadata": {},
   "outputs": [],
   "source": [
    "# api_key from file\n",
    "file_path = 'openai_api.txt'\n",
    "\n",
    "with open(file_path, 'r') as f:\n",
    "    api_key = f.read().strip()"
   ]
  },
  {
   "cell_type": "code",
   "execution_count": 4,
   "id": "c4eda7c4",
   "metadata": {},
   "outputs": [],
   "source": [
    "client = OpenAI(\n",
    "    api_key=api_key,\n",
    ")"
   ]
  },
  {
   "cell_type": "code",
   "execution_count": 5,
   "id": "9d6357c0",
   "metadata": {},
   "outputs": [],
   "source": [
    "gsm8k = load_dataset('gsm8k', 'main')\n",
    "validation_index = np.load('lib_prompt/validation_index.npy')\n",
    "validation_data = gsm8k['train'].select(validation_index)\n",
    "gsm8k_test = gsm8k['test']"
   ]
  },
  {
   "cell_type": "code",
   "execution_count": 6,
   "id": "317c9c7c",
   "metadata": {},
   "outputs": [
    {
     "data": {
      "text/plain": [
       "'Natalia sold clips to 48 of her friends in April, and then she sold half as many clips in May. How many clips did Natalia sell altogether in April and May?'"
      ]
     },
     "execution_count": 6,
     "metadata": {},
     "output_type": "execute_result"
    }
   ],
   "source": [
    "gsm8k['train'][0]['question']"
   ]
  },
  {
   "cell_type": "code",
   "execution_count": 7,
   "id": "2cf38667",
   "metadata": {},
   "outputs": [],
   "source": [
    "gsm8k_test = gsm8k['test']"
   ]
  },
  {
   "cell_type": "code",
   "execution_count": 8,
   "id": "a599ade0",
   "metadata": {},
   "outputs": [],
   "source": [
    "prompt_complex = open('lib_prompt/prompt_hardest.txt').read()"
   ]
  },
  {
   "cell_type": "code",
   "execution_count": 9,
   "id": "c52e9084",
   "metadata": {},
   "outputs": [
    {
     "name": "stdout",
     "output_type": "stream",
     "text": [
      "Question: Angelo and Melanie want to plan how many hours over the next week they should study together for their test next week. They have 2 chapters of their textbook to study and 4 worksheets to memorize. They figure out that they should dedicate 3 hours to each chapter of their textbook and 1.5 hours for each worksheet. If they plan to study no more than 4 hours each day, how many days should they plan to study total over the next week if they take a 10-minute break every hour, include 3 10-minute snack breaks each day, and 30 minutes for lunch each day?\n",
      "Let's think step by step\n",
      "Angelo and Melanie think they should dedicate 3 hours to each of the 2 chapters, 3 hours x 2 chapters = 6 hours total.\n",
      "For the worksheets they plan to dedicate 1.5 hours for each worksheet, 1.5 hours x 4 worksheets = 6 hours total.\n",
      "Angelo and Melanie need to start with planning 12 hours to study, at 4 hours a day, 12 / 4 = 3 days.\n",
      "However, they need to include time for breaks and lunch. Every hour they want to include a 10-minute break, so 12 total hours x 10 minutes = 120 extra minutes for breaks.\n",
      "They also want to include 3 10-minute snack breaks, 3 x 10 minutes = 30 minutes.\n",
      "And they want to include 30 minutes for lunch each day, so 120 minutes for breaks + 30 minutes for snack breaks + 30 minutes for lunch = 180 minutes, or 180 / 60 minutes per hour = 3 extra hours.\n",
      "So Angelo and Melanie want to plan 12 hours to study + 3 hours of breaks = 15 hours total.\n",
      "They want to study no more than 4 hours each day, 15 hours / 4 hours each day = 3.75\n",
      "They will need to plan to study 4 days to allow for all the time they need.\n",
      "The answer is 4\n",
      "\n",
      "Question: Mark's basketball team scores 25 2 pointers, 8 3 pointers and 10 free throws.  Their opponents score double the 2 pointers but half the 3 pointers and free throws.  What's the total number of points scored by both teams added together?\n",
      "Let's think step by step\n",
      "Mark's team scores 25 2 pointers, meaning they scored 25*2= 50 points in 2 pointers.\n",
      "His team also scores 6 3 pointers, meaning they scored 8*3= 24 points in 3 pointers\n",
      "They scored 10 free throws, and free throws count as one point so they scored 10*1=10 points in free throws.\n",
      "All together his team scored 50+24+10= 84 points\n",
      "Mark's opponents scored double his team's number of 2 pointers, meaning they scored 50*2=100 points in 2 pointers.\n",
      "His opponents scored half his team's number of 3 pointers, meaning they scored 24/2= 12 points in 3 pointers.\n",
      "They also scored half Mark's team's points in free throws, meaning they scored 10/2=5 points in free throws.\n",
      "All together Mark's opponents scored 100+12+5=117 points\n",
      "The total score for the game is both team's scores added together, so it is 84+117=201 points\n",
      "The answer is 201\n",
      "\n",
      "Question: Bella has two times as many marbles as frisbees. She also has 20 more frisbees than deck cards. If she buys 2/5 times more of each item, what would be the total number of the items she will have if she currently has 60 marbles?\n",
      "Let's think step by step\n",
      "When Bella buys 2/5 times more marbles, she'll have increased the number of marbles by 2/5*60 = 24\n",
      "The total number of marbles she'll have is 60+24 = 84\n",
      "If Bella currently has 60 marbles, and she has two times as many marbles as frisbees, she has 60/2 = 30 frisbees.\n",
      "If Bella buys 2/5 times more frisbees, she'll have 2/5*30 = 12 more frisbees.\n",
      "The total number of frisbees she'll have will increase to 30+12 = 42\n",
      "Bella also has 20 more frisbees than deck cards, meaning she has 30-20 = 10 deck cards\n",
      "If she buys 2/5 times more deck cards, she'll have 2/5*10 = 4 more deck cards.\n",
      "The total number of deck cards she'll have is 10+4 = 14\n",
      "Together, Bella will have a total of 14+42+84 = 140 items\n",
      "The answer is 140\n",
      "\n",
      "Question: A group of 4 fruit baskets contains 9 apples, 15 oranges, and 14 bananas in the first three baskets and 2 less of each fruit in the fourth basket. How many fruits are there?\n",
      "Let's think step by step\n",
      "For the first three baskets, the number of apples and oranges in one basket is 9+15=24\n",
      "In total, together with bananas, the number of fruits in one basket is 24+14=38 for the first three baskets.\n",
      "Since there are three baskets each having 38 fruits, there are 3*38=114 fruits in the first three baskets.\n",
      "The number of apples in the fourth basket is 9-2=7\n",
      "There are also 15-2=13 oranges in the fourth basket\n",
      "The combined number of oranges and apples in the fourth basket is 13+7=20\n",
      "The fourth basket also contains 14-2=12 bananas.\n",
      "In total, the fourth basket has 20+12=32 fruits.\n",
      "The four baskets together have 32+114=146 fruits.\n",
      "The answer is 146\n",
      "\n",
      "Question: You can buy 4 apples or 1 watermelon for the same price. You bought 36 fruits evenly split between oranges, apples and watermelons, and the price of 1 orange is $0.50. How much does 1 apple cost if your total bill was $66?\n",
      "Let's think step by step\n",
      "If 36 fruits were evenly split between 3 types of fruits, then I bought 36/3 = 12 units of each fruit\n",
      "If 1 orange costs $0.50 then 12 oranges will cost $0.50 * 12 = $6\n",
      "If my total bill was $66 and I spent $6 on oranges then I spent $66 - $6 = $60 on the other 2 fruit types.\n",
      "Assuming the price of watermelon is W, and knowing that you can buy 4 apples for the same price and that the price of one apple is A, then 1W=4A\n",
      "If we know we bought 12 watermelons and 12 apples for $60, then we know that $60 = 12W + 12A\n",
      "Knowing that 1W=4A, then we can convert the above to $60 = 12(4A) + 12A\n",
      "$60 = 48A + 12A\n",
      "$60 = 60A\n",
      "Then we know the price of one apple (A) is $60/60= $1\n",
      "The answer is 1\n",
      "\n",
      "Question: Susy goes to a large school with 800 students, while Sarah goes to a smaller school with only 300 students.  At the start of the school year, Susy had 100 social media followers.  She gained 40 new followers in the first week of the school year, half that in the second week, and half of that in the third week.  Sarah only had 50 social media followers at the start of the year, but she gained 90 new followers the first week, a third of that in the second week, and a third of that in the third week.  After three weeks, how many social media followers did the girl with the most total followers have?\n",
      "Let's think step by step\n",
      "After one week, Susy has 100+40 = 140 followers.\n",
      "In the second week, Susy gains 40/2 = 20 new followers.\n",
      "In the third week, Susy gains 20/2 = 10 new followers.\n",
      "In total, Susy finishes the three weeks with 140+20+10 = 170 total followers.\n",
      "After one week, Sarah has 50+90 = 140 followers.\n",
      "After the second week, Sarah gains 90/3 = 30 followers.\n",
      "After the third week, Sarah gains 30/3 = 10 followers.\n",
      "So, Sarah finishes the three weeks with 140+30+10 = 180 total followers.\n",
      "Thus, Sarah is the girl with the most total followers with a total of 180.\n",
      "The answer is 180\n",
      "\n",
      "Question: Sam bought a dozen boxes, each with 30 highlighter pens inside, for $10 each box. He rearranged five of these boxes into packages of six highlighters each and sold them for $3 per package. He sold the rest of the highlighters separately at the rate of three pens for $2. How much profit did he make in total, in dollars?\n",
      "Let's think step by step\n",
      "Sam bought 12 boxes x $10 = $120 worth of highlighters.\n",
      "He bought 12 * 30 = 360 highlighters in total.\n",
      "Sam then took 5 boxes × 6 highlighters/box = 30 highlighters.\n",
      "He sold these boxes for 5 * $3 = $15\n",
      "After selling these 5 boxes there were 360 - 30 = 330 highlighters remaining.\n",
      "These form 330 / 3 = 110 groups of three pens.\n",
      "He sold each of these groups for $2 each, so made 110 * 2 = $220 from them.\n",
      "In total, then, he earned $220 + $15 = $235.\n",
      "Since his original cost was $120, he earned $235 - $120 = $115 in profit.\n",
      "The answer is 115\n",
      "\n",
      "Question: In a certain school, 2/3 of the male students like to play basketball, but only 1/5 of the female students like to play basketball. What percent of the population of the school do not like to play basketball if the ratio of the male to female students is 3:2 and there are 1000 students?\n",
      "Let's think step by step\n",
      "The students are divided into 3 + 2 = 5 parts where 3 parts are for males and 2 parts are for females.\n",
      "Each part represents 1000/5 = 200 students.\n",
      "So, there are 3 x 200 = 600 males.\n",
      "And there are 2 x 200 = 400 females.\n",
      "Hence, 600 x 2/3 = 400 males play basketball.\n",
      "And 400 x 1/5 = 80 females play basketball.\n",
      "A total of 400 + 80 = 480 students play basketball.\n",
      "Therefore, 1000 - 480 = 520 do not like to play basketball.\n",
      "The percentage of the school that do not like to play basketball is 520/1000 * 100 = 52\n",
      "The answer is 52\n",
      "\n"
     ]
    }
   ],
   "source": [
    "print(prompt_complex)"
   ]
  },
  {
   "cell_type": "code",
   "execution_count": 10,
   "id": "9fcd4847",
   "metadata": {},
   "outputs": [
    {
     "data": {
      "text/plain": [
       "\"Question: Angelo and Melanie want to plan how many hours over the next week they should study together for their test next week. They have 2 chapters of their textbook to study and 4 worksheets to memorize. They figure out that they should dedicate 3 hours to each chapter of their textbook and 1.5 hours for each worksheet. If they plan to study no more than 4 hours each day, how many days should they plan to study total over the next week if they take a 10-minute break every hour, include 3 10-minute snack breaks each day, and 30 minutes for lunch each day?\\nLet's think step by step\\nAngelo and Melanie think they should dedicate 3 hours to each of the 2 chapters, 3 hours x 2 chapters = 6 hours total.\\nFor the worksheets they plan to dedicate 1.5 hours for each worksheet, 1.5 hours x 4 worksheets = 6 hours total.\\nAngelo and Melanie need to start with planning 12 hours to study, at 4 hours a day, 12 / 4 = 3 days.\\nHowever, they need to include time for breaks and lunch. Every hour they want to include a 10-minute break, so 12 total hours x 10 minutes = 120 extra minutes for breaks.\\nThey also want to include 3 10-minute snack breaks, 3 x 10 minutes = 30 minutes.\\nAnd they want to include 30 minutes for lunch each day, so 120 minutes for breaks + 30 minutes for snack breaks + 30 minutes for lunch = 180 minutes, or 180 / 60 minutes per hour = 3 extra hours.\\nSo Angelo and Melanie want to plan 12 hours to study + 3 hours of breaks = 15 hours total.\\nThey want to study no more than 4 hours each day, 15 hours / 4 hours each day = 3.75\\nThey will need to plan to study 4 days to allow for all the time they need.\\nThe answer is 4\\n\\nQuestion: Mark's basketball team scores 25 2 pointers, 8 3 pointers and 10 free throws.  Their opponents score double the 2 pointers but half the 3 pointers and free throws.  What's the total number of points scored by both teams added together?\\nLet's think step by step\\nMark's team scores 25 2 pointers, meaning they scored 25*2= 50 points in 2 pointers.\\nHis team also scores 6 3 pointers, meaning they scored 8*3= 24 points in 3 pointers\\nThey scored 10 free throws, and free throws count as one point so they scored 10*1=10 points in free throws.\\nAll together his team scored 50+24+10= 84 points\\nMark's opponents scored double his team's number of 2 pointers, meaning they scored 50*2=100 points in 2 pointers.\\nHis opponents scored half his team's number of 3 pointers, meaning they scored 24/2= 12 points in 3 pointers.\\nThey also scored half Mark's team's points in free throws, meaning they scored 10/2=5 points in free throws.\\nAll together Mark's opponents scored 100+12+5=117 points\\nThe total score for the game is both team's scores added together, so it is 84+117=201 points\\nThe answer is 201\\n\\nQuestion: Bella has two times as many marbles as frisbees. She also has 20 more frisbees than deck cards. If she buys 2/5 times more of each item, what would be the total number of the items she will have if she currently has 60 marbles?\\nLet's think step by step\\nWhen Bella buys 2/5 times more marbles, she'll have increased the number of marbles by 2/5*60 = 24\\nThe total number of marbles she'll have is 60+24 = 84\\nIf Bella currently has 60 marbles, and she has two times as many marbles as frisbees, she has 60/2 = 30 frisbees.\\nIf Bella buys 2/5 times more frisbees, she'll have 2/5*30 = 12 more frisbees.\\nThe total number of frisbees she'll have will increase to 30+12 = 42\\nBella also has 20 more frisbees than deck cards, meaning she has 30-20 = 10 deck cards\\nIf she buys 2/5 times more deck cards, she'll have 2/5*10 = 4 more deck cards.\\nThe total number of deck cards she'll have is 10+4 = 14\\nTogether, Bella will have a total of 14+42+84 = 140 items\\nThe answer is 140\\n\\nQuestion: A group of 4 fruit baskets contains 9 apples, 15 oranges, and 14 bananas in the first three baskets and 2 less of each fruit in the fourth basket. How many fruits are there?\\nLet's think step by step\\nFor the first three baskets, the number of apples and oranges in one basket is 9+15=24\\nIn total, together with bananas, the number of fruits in one basket is 24+14=38 for the first three baskets.\\nSince there are three baskets each having 38 fruits, there are 3*38=114 fruits in the first three baskets.\\nThe number of apples in the fourth basket is 9-2=7\\nThere are also 15-2=13 oranges in the fourth basket\\nThe combined number of oranges and apples in the fourth basket is 13+7=20\\nThe fourth basket also contains 14-2=12 bananas.\\nIn total, the fourth basket has 20+12=32 fruits.\\nThe four baskets together have 32+114=146 fruits.\\nThe answer is 146\\n\\nQuestion: You can buy 4 apples or 1 watermelon for the same price. You bought 36 fruits evenly split between oranges, apples and watermelons, and the price of 1 orange is $0.50. How much does 1 apple cost if your total bill was $66?\\nLet's think step by step\\nIf 36 fruits were evenly split between 3 types of fruits, then I bought 36/3 = 12 units of each fruit\\nIf 1 orange costs $0.50 then 12 oranges will cost $0.50 * 12 = $6\\nIf my total bill was $66 and I spent $6 on oranges then I spent $66 - $6 = $60 on the other 2 fruit types.\\nAssuming the price of watermelon is W, and knowing that you can buy 4 apples for the same price and that the price of one apple is A, then 1W=4A\\nIf we know we bought 12 watermelons and 12 apples for $60, then we know that $60 = 12W + 12A\\nKnowing that 1W=4A, then we can convert the above to $60 = 12(4A) + 12A\\n$60 = 48A + 12A\\n$60 = 60A\\nThen we know the price of one apple (A) is $60/60= $1\\nThe answer is 1\\n\\nQuestion: Susy goes to a large school with 800 students, while Sarah goes to a smaller school with only 300 students.  At the start of the school year, Susy had 100 social media followers.  She gained 40 new followers in the first week of the school year, half that in the second week, and half of that in the third week.  Sarah only had 50 social media followers at the start of the year, but she gained 90 new followers the first week, a third of that in the second week, and a third of that in the third week.  After three weeks, how many social media followers did the girl with the most total followers have?\\nLet's think step by step\\nAfter one week, Susy has 100+40 = 140 followers.\\nIn the second week, Susy gains 40/2 = 20 new followers.\\nIn the third week, Susy gains 20/2 = 10 new followers.\\nIn total, Susy finishes the three weeks with 140+20+10 = 170 total followers.\\nAfter one week, Sarah has 50+90 = 140 followers.\\nAfter the second week, Sarah gains 90/3 = 30 followers.\\nAfter the third week, Sarah gains 30/3 = 10 followers.\\nSo, Sarah finishes the three weeks with 140+30+10 = 180 total followers.\\nThus, Sarah is the girl with the most total followers with a total of 180.\\nThe answer is 180\\n\\nQuestion: Sam bought a dozen boxes, each with 30 highlighter pens inside, for $10 each box. He rearranged five of these boxes into packages of six highlighters each and sold them for $3 per package. He sold the rest of the highlighters separately at the rate of three pens for $2. How much profit did he make in total, in dollars?\\nLet's think step by step\\nSam bought 12 boxes x $10 = $120 worth of highlighters.\\nHe bought 12 * 30 = 360 highlighters in total.\\nSam then took 5 boxes × 6 highlighters/box = 30 highlighters.\\nHe sold these boxes for 5 * $3 = $15\\nAfter selling these 5 boxes there were 360 - 30 = 330 highlighters remaining.\\nThese form 330 / 3 = 110 groups of three pens.\\nHe sold each of these groups for $2 each, so made 110 * 2 = $220 from them.\\nIn total, then, he earned $220 + $15 = $235.\\nSince his original cost was $120, he earned $235 - $120 = $115 in profit.\\nThe answer is 115\\n\\nQuestion: In a certain school, 2/3 of the male students like to play basketball, but only 1/5 of the female students like to play basketball. What percent of the population of the school do not like to play basketball if the ratio of the male to female students is 3:2 and there are 1000 students?\\nLet's think step by step\\nThe students are divided into 3 + 2 = 5 parts where 3 parts are for males and 2 parts are for females.\\nEach part represents 1000/5 = 200 students.\\nSo, there are 3 x 200 = 600 males.\\nAnd there are 2 x 200 = 400 females.\\nHence, 600 x 2/3 = 400 males play basketball.\\nAnd 400 x 1/5 = 80 females play basketball.\\nA total of 400 + 80 = 480 students play basketball.\\nTherefore, 1000 - 480 = 520 do not like to play basketball.\\nThe percentage of the school that do not like to play basketball is 520/1000 * 100 = 52\\nThe answer is 52\\n\""
      ]
     },
     "execution_count": 10,
     "metadata": {},
     "output_type": "execute_result"
    }
   ],
   "source": [
    "prompt_complex"
   ]
  },
  {
   "cell_type": "code",
   "execution_count": 11,
   "id": "8399049b",
   "metadata": {},
   "outputs": [],
   "source": [
    "prompt_q = prompt_complex + '\\nQuestion: ' + gsm8k_test[1]['question'] + '\\n'"
   ]
  },
  {
   "cell_type": "code",
   "execution_count": 12,
   "id": "ee2f6956",
   "metadata": {},
   "outputs": [
    {
     "name": "stdout",
     "output_type": "stream",
     "text": [
      "Question: Angelo and Melanie want to plan how many hours over the next week they should study together for their test next week. They have 2 chapters of their textbook to study and 4 worksheets to memorize. They figure out that they should dedicate 3 hours to each chapter of their textbook and 1.5 hours for each worksheet. If they plan to study no more than 4 hours each day, how many days should they plan to study total over the next week if they take a 10-minute break every hour, include 3 10-minute snack breaks each day, and 30 minutes for lunch each day?\n",
      "Let's think step by step\n",
      "Angelo and Melanie think they should dedicate 3 hours to each of the 2 chapters, 3 hours x 2 chapters = 6 hours total.\n",
      "For the worksheets they plan to dedicate 1.5 hours for each worksheet, 1.5 hours x 4 worksheets = 6 hours total.\n",
      "Angelo and Melanie need to start with planning 12 hours to study, at 4 hours a day, 12 / 4 = 3 days.\n",
      "However, they need to include time for breaks and lunch. Every hour they want to include a 10-minute break, so 12 total hours x 10 minutes = 120 extra minutes for breaks.\n",
      "They also want to include 3 10-minute snack breaks, 3 x 10 minutes = 30 minutes.\n",
      "And they want to include 30 minutes for lunch each day, so 120 minutes for breaks + 30 minutes for snack breaks + 30 minutes for lunch = 180 minutes, or 180 / 60 minutes per hour = 3 extra hours.\n",
      "So Angelo and Melanie want to plan 12 hours to study + 3 hours of breaks = 15 hours total.\n",
      "They want to study no more than 4 hours each day, 15 hours / 4 hours each day = 3.75\n",
      "They will need to plan to study 4 days to allow for all the time they need.\n",
      "The answer is 4\n",
      "\n",
      "Question: Mark's basketball team scores 25 2 pointers, 8 3 pointers and 10 free throws.  Their opponents score double the 2 pointers but half the 3 pointers and free throws.  What's the total number of points scored by both teams added together?\n",
      "Let's think step by step\n",
      "Mark's team scores 25 2 pointers, meaning they scored 25*2= 50 points in 2 pointers.\n",
      "His team also scores 6 3 pointers, meaning they scored 8*3= 24 points in 3 pointers\n",
      "They scored 10 free throws, and free throws count as one point so they scored 10*1=10 points in free throws.\n",
      "All together his team scored 50+24+10= 84 points\n",
      "Mark's opponents scored double his team's number of 2 pointers, meaning they scored 50*2=100 points in 2 pointers.\n",
      "His opponents scored half his team's number of 3 pointers, meaning they scored 24/2= 12 points in 3 pointers.\n",
      "They also scored half Mark's team's points in free throws, meaning they scored 10/2=5 points in free throws.\n",
      "All together Mark's opponents scored 100+12+5=117 points\n",
      "The total score for the game is both team's scores added together, so it is 84+117=201 points\n",
      "The answer is 201\n",
      "\n",
      "Question: Bella has two times as many marbles as frisbees. She also has 20 more frisbees than deck cards. If she buys 2/5 times more of each item, what would be the total number of the items she will have if she currently has 60 marbles?\n",
      "Let's think step by step\n",
      "When Bella buys 2/5 times more marbles, she'll have increased the number of marbles by 2/5*60 = 24\n",
      "The total number of marbles she'll have is 60+24 = 84\n",
      "If Bella currently has 60 marbles, and she has two times as many marbles as frisbees, she has 60/2 = 30 frisbees.\n",
      "If Bella buys 2/5 times more frisbees, she'll have 2/5*30 = 12 more frisbees.\n",
      "The total number of frisbees she'll have will increase to 30+12 = 42\n",
      "Bella also has 20 more frisbees than deck cards, meaning she has 30-20 = 10 deck cards\n",
      "If she buys 2/5 times more deck cards, she'll have 2/5*10 = 4 more deck cards.\n",
      "The total number of deck cards she'll have is 10+4 = 14\n",
      "Together, Bella will have a total of 14+42+84 = 140 items\n",
      "The answer is 140\n",
      "\n",
      "Question: A group of 4 fruit baskets contains 9 apples, 15 oranges, and 14 bananas in the first three baskets and 2 less of each fruit in the fourth basket. How many fruits are there?\n",
      "Let's think step by step\n",
      "For the first three baskets, the number of apples and oranges in one basket is 9+15=24\n",
      "In total, together with bananas, the number of fruits in one basket is 24+14=38 for the first three baskets.\n",
      "Since there are three baskets each having 38 fruits, there are 3*38=114 fruits in the first three baskets.\n",
      "The number of apples in the fourth basket is 9-2=7\n",
      "There are also 15-2=13 oranges in the fourth basket\n",
      "The combined number of oranges and apples in the fourth basket is 13+7=20\n",
      "The fourth basket also contains 14-2=12 bananas.\n",
      "In total, the fourth basket has 20+12=32 fruits.\n",
      "The four baskets together have 32+114=146 fruits.\n",
      "The answer is 146\n",
      "\n",
      "Question: You can buy 4 apples or 1 watermelon for the same price. You bought 36 fruits evenly split between oranges, apples and watermelons, and the price of 1 orange is $0.50. How much does 1 apple cost if your total bill was $66?\n",
      "Let's think step by step\n",
      "If 36 fruits were evenly split between 3 types of fruits, then I bought 36/3 = 12 units of each fruit\n",
      "If 1 orange costs $0.50 then 12 oranges will cost $0.50 * 12 = $6\n",
      "If my total bill was $66 and I spent $6 on oranges then I spent $66 - $6 = $60 on the other 2 fruit types.\n",
      "Assuming the price of watermelon is W, and knowing that you can buy 4 apples for the same price and that the price of one apple is A, then 1W=4A\n",
      "If we know we bought 12 watermelons and 12 apples for $60, then we know that $60 = 12W + 12A\n",
      "Knowing that 1W=4A, then we can convert the above to $60 = 12(4A) + 12A\n",
      "$60 = 48A + 12A\n",
      "$60 = 60A\n",
      "Then we know the price of one apple (A) is $60/60= $1\n",
      "The answer is 1\n",
      "\n",
      "Question: Susy goes to a large school with 800 students, while Sarah goes to a smaller school with only 300 students.  At the start of the school year, Susy had 100 social media followers.  She gained 40 new followers in the first week of the school year, half that in the second week, and half of that in the third week.  Sarah only had 50 social media followers at the start of the year, but she gained 90 new followers the first week, a third of that in the second week, and a third of that in the third week.  After three weeks, how many social media followers did the girl with the most total followers have?\n",
      "Let's think step by step\n",
      "After one week, Susy has 100+40 = 140 followers.\n",
      "In the second week, Susy gains 40/2 = 20 new followers.\n",
      "In the third week, Susy gains 20/2 = 10 new followers.\n",
      "In total, Susy finishes the three weeks with 140+20+10 = 170 total followers.\n",
      "After one week, Sarah has 50+90 = 140 followers.\n",
      "After the second week, Sarah gains 90/3 = 30 followers.\n",
      "After the third week, Sarah gains 30/3 = 10 followers.\n",
      "So, Sarah finishes the three weeks with 140+30+10 = 180 total followers.\n",
      "Thus, Sarah is the girl with the most total followers with a total of 180.\n",
      "The answer is 180\n",
      "\n",
      "Question: Sam bought a dozen boxes, each with 30 highlighter pens inside, for $10 each box. He rearranged five of these boxes into packages of six highlighters each and sold them for $3 per package. He sold the rest of the highlighters separately at the rate of three pens for $2. How much profit did he make in total, in dollars?\n",
      "Let's think step by step\n",
      "Sam bought 12 boxes x $10 = $120 worth of highlighters.\n",
      "He bought 12 * 30 = 360 highlighters in total.\n",
      "Sam then took 5 boxes × 6 highlighters/box = 30 highlighters.\n",
      "He sold these boxes for 5 * $3 = $15\n",
      "After selling these 5 boxes there were 360 - 30 = 330 highlighters remaining.\n",
      "These form 330 / 3 = 110 groups of three pens.\n",
      "He sold each of these groups for $2 each, so made 110 * 2 = $220 from them.\n",
      "In total, then, he earned $220 + $15 = $235.\n",
      "Since his original cost was $120, he earned $235 - $120 = $115 in profit.\n",
      "The answer is 115\n",
      "\n",
      "Question: In a certain school, 2/3 of the male students like to play basketball, but only 1/5 of the female students like to play basketball. What percent of the population of the school do not like to play basketball if the ratio of the male to female students is 3:2 and there are 1000 students?\n",
      "Let's think step by step\n",
      "The students are divided into 3 + 2 = 5 parts where 3 parts are for males and 2 parts are for females.\n",
      "Each part represents 1000/5 = 200 students.\n",
      "So, there are 3 x 200 = 600 males.\n",
      "And there are 2 x 200 = 400 females.\n",
      "Hence, 600 x 2/3 = 400 males play basketball.\n",
      "And 400 x 1/5 = 80 females play basketball.\n",
      "A total of 400 + 80 = 480 students play basketball.\n",
      "Therefore, 1000 - 480 = 520 do not like to play basketball.\n",
      "The percentage of the school that do not like to play basketball is 520/1000 * 100 = 52\n",
      "The answer is 52\n",
      "\n",
      "Question: A robe takes 2 bolts of blue fiber and half that much white fiber.  How many bolts in total does it take?\n",
      "\n"
     ]
    }
   ],
   "source": [
    "print(prompt_q)"
   ]
  },
  {
   "cell_type": "code",
   "execution_count": 13,
   "id": "77cb5c3c",
   "metadata": {},
   "outputs": [],
   "source": [
    "response = client.chat.completions.create(\n",
    "    model=\"gpt-3.5-turbo\",\n",
    "    messages=[\n",
    "        {\"role\": \"system\", \"content\": \"Follow the given examples and answer the question.\"},\n",
    "        {\"role\": \"user\", \"content\": prompt_q},\n",
    "    ]\n",
    ")"
   ]
  },
  {
   "cell_type": "code",
   "execution_count": 14,
   "id": "bf7354b4",
   "metadata": {},
   "outputs": [
    {
     "data": {
      "text/plain": [
       "'To calculate the total number of bolts required for the robe, we start by considering the blue fiber bolts needed. Given that the robe takes 2 bolts of blue fiber and half that much white fiber, we find:\\n\\nBlue fiber bolts needed: 2 bolts\\n\\nSince the robe requires half as many white fiber bolts as blue fiber bolts, the number of white fiber bolts needed is half of 2, which equals:\\n\\nWhite fiber bolts needed: 2 bolts / 2 = 1 bolt\\n\\nTherefore, to find the total number of bolts required for the robe, we add the blue fiber bolts and white fiber bolts:\\n\\nTotal bolts needed: 2 blue fiber bolts + 1 white fiber bolt = 3 bolts\\n\\nSo, the robe takes a total of 3 bolts of fiber.'"
      ]
     },
     "execution_count": 14,
     "metadata": {},
     "output_type": "execute_result"
    }
   ],
   "source": [
    "response.choices[0].message.content"
   ]
  },
  {
   "cell_type": "code",
   "execution_count": 15,
   "id": "ef576951",
   "metadata": {},
   "outputs": [
    {
     "name": "stdout",
     "output_type": "stream",
     "text": [
      "To calculate the total number of bolts required for the robe, we start by considering the blue fiber bolts needed. Given that the robe takes 2 bolts of blue fiber and half that much white fiber, we find:\n",
      "\n",
      "Blue fiber bolts needed: 2 bolts\n",
      "\n",
      "Since the robe requires half as many white fiber bolts as blue fiber bolts, the number of white fiber bolts needed is half of 2, which equals:\n",
      "\n",
      "White fiber bolts needed: 2 bolts / 2 = 1 bolt\n",
      "\n",
      "Therefore, to find the total number of bolts required for the robe, we add the blue fiber bolts and white fiber bolts:\n",
      "\n",
      "Total bolts needed: 2 blue fiber bolts + 1 white fiber bolt = 3 bolts\n",
      "\n",
      "So, the robe takes a total of 3 bolts of fiber.\n"
     ]
    }
   ],
   "source": [
    "print(response.choices[0].message.content)"
   ]
  },
  {
   "cell_type": "markdown",
   "id": "e6a92c6e",
   "metadata": {},
   "source": [
    "## LLMlinguage2 를 사용하여 300 token target 으로 compress 후 compress 하지 않은 경우와 결과 비교\n",
    "https://github.com/microsoft/LLMLingua"
   ]
  },
  {
   "cell_type": "code",
   "execution_count": 16,
   "id": "51025950",
   "metadata": {},
   "outputs": [],
   "source": [
    "# !pip install llmlingua"
   ]
  },
  {
   "cell_type": "code",
   "execution_count": 17,
   "id": "062c6330",
   "metadata": {},
   "outputs": [
    {
     "data": {
      "application/vnd.jupyter.widget-view+json": {
       "model_id": "1e80b5c3b1f7477dbe18d6867d75fed6",
       "version_major": 2,
       "version_minor": 0
      },
      "text/plain": [
       "Loading checkpoint shards:   0%|          | 0/2 [00:00<?, ?it/s]"
      ]
     },
     "metadata": {},
     "output_type": "display_data"
    }
   ],
   "source": [
    "from llmlingua import PromptCompressor\n",
    "\n",
    "llm_lingua = PromptCompressor(device_map=\"cpu\") # 맥북 로컬 환경에서는 cpu 사용하도록 설정. 안하면 CUDA 오류남. AssertionError: Torch not compiled with CUDA enabled\n",
    "compressed_prompt = llm_lingua.compress_prompt(prompt_complex, target_token=300)"
   ]
  },
  {
   "cell_type": "code",
   "execution_count": 18,
   "id": "265054f8",
   "metadata": {},
   "outputs": [
    {
     "data": {
      "text/plain": [
       "{'compressed_prompt': ': Angelo andanie to plan many hours study their test2 of4 to They should study study total week they1 hour,3 breaks and\\ns think step\\nanie eachters hours hours\\nate1 hours each hours\\n andanie to start with planning study,\\n to. they to203ute\\nunch for  minutes hour3\\nSo andanie study study,5 to for\\nThe4\\n\\n: Marks team52.  score teams\\ns,5\\n team also63, they8\\n and as point\\n together0\\ns scoreds scored4 half57\\nThe is The\\n: B has two as than deck she2 more what of have she\\n\\n haveella manybles as0\\n Bella25 will\\n more deck, have\\n2+0The\\n4 fruitanas first2 many there\\n\\n\\n,8\\nets are3anges theThe3 basket4\\nThe1\\n:13ruits between cost\\n\\n, then62\\n1If\\n of is and price\\n can)2\\n\\n:y a large,0,, many the most\\n\\n,0y0 total\\n,:0 Heanged into\\n boxestersbox0He50ese three to3, 1000 - 480 = 520 do not like to play basketball.\\nThe percentage of the school that do not like to play basketball is 520/1000 * 100 = 52\\nThe answer is 52\\n',\n",
       " 'origin_tokens': 2365,\n",
       " 'compressed_tokens': 281,\n",
       " 'ratio': '8.4x',\n",
       " 'rate': '11.9%',\n",
       " 'saving': ', Saving $0.1 in GPT-4.'}"
      ]
     },
     "execution_count": 18,
     "metadata": {},
     "output_type": "execute_result"
    }
   ],
   "source": [
    "compressed_prompt"
   ]
  },
  {
   "cell_type": "code",
   "execution_count": 21,
   "id": "b44fe980",
   "metadata": {},
   "outputs": [
    {
     "data": {
      "text/plain": [
       "': Angelo andanie to plan many hours study their test2 of4 to They should study study total week they1 hour,3 breaks and\\ns think step\\nanie eachters hours hours\\nate1 hours each hours\\n andanie to start with planning study,\\n to. they to203ute\\nunch for  minutes hour3\\nSo andanie study study,5 to for\\nThe4\\n\\n: Marks team52.  score teams\\ns,5\\n team also63, they8\\n and as point\\n together0\\ns scoreds scored4 half57\\nThe is The\\n: B has two as than deck she2 more what of have she\\n\\n haveella manybles as0\\n Bella25 will\\n more deck, have\\n2+0The\\n4 fruitanas first2 many there\\n\\n\\n,8\\nets are3anges theThe3 basket4\\nThe1\\n:13ruits between cost\\n\\n, then62\\n1If\\n of is and price\\n can)2\\n\\n:y a large,0,, many the most\\n\\n,0y0 total\\n,:0 Heanged into\\n boxestersbox0He50ese three to3, 1000 - 480 = 520 do not like to play basketball.\\nThe percentage of the school that do not like to play basketball is 520/1000 * 100 = 52\\nThe answer is 52\\n'"
      ]
     },
     "execution_count": 21,
     "metadata": {},
     "output_type": "execute_result"
    }
   ],
   "source": [
    "compressed_prompt[\"compressed_prompt\"]"
   ]
  },
  {
   "cell_type": "code",
   "execution_count": 22,
   "id": "5927cf30",
   "metadata": {},
   "outputs": [],
   "source": [
    "compressed_prompt_q = compressed_prompt[\"compressed_prompt\"] + '\\nQuestion: ' + gsm8k_test[1]['question'] + '\\n'"
   ]
  },
  {
   "cell_type": "code",
   "execution_count": 23,
   "id": "55cb3699",
   "metadata": {},
   "outputs": [
    {
     "data": {
      "text/plain": [
       "': Angelo andanie to plan many hours study their test2 of4 to They should study study total week they1 hour,3 breaks and\\ns think step\\nanie eachters hours hours\\nate1 hours each hours\\n andanie to start with planning study,\\n to. they to203ute\\nunch for  minutes hour3\\nSo andanie study study,5 to for\\nThe4\\n\\n: Marks team52.  score teams\\ns,5\\n team also63, they8\\n and as point\\n together0\\ns scoreds scored4 half57\\nThe is The\\n: B has two as than deck she2 more what of have she\\n\\n haveella manybles as0\\n Bella25 will\\n more deck, have\\n2+0The\\n4 fruitanas first2 many there\\n\\n\\n,8\\nets are3anges theThe3 basket4\\nThe1\\n:13ruits between cost\\n\\n, then62\\n1If\\n of is and price\\n can)2\\n\\n:y a large,0,, many the most\\n\\n,0y0 total\\n,:0 Heanged into\\n boxestersbox0He50ese three to3, 1000 - 480 = 520 do not like to play basketball.\\nThe percentage of the school that do not like to play basketball is 520/1000 * 100 = 52\\nThe answer is 52\\n\\nQuestion: A robe takes 2 bolts of blue fiber and half that much white fiber.  How many bolts in total does it take?\\n'"
      ]
     },
     "execution_count": 23,
     "metadata": {},
     "output_type": "execute_result"
    }
   ],
   "source": [
    "compressed_prompt_q"
   ]
  },
  {
   "cell_type": "code",
   "execution_count": 24,
   "id": "c70f9f62",
   "metadata": {},
   "outputs": [
    {
     "name": "stdout",
     "output_type": "stream",
     "text": [
      ": Angelo andanie to plan many hours study their test2 of4 to They should study study total week they1 hour,3 breaks and\n",
      "s think step\n",
      "anie eachters hours hours\n",
      "ate1 hours each hours\n",
      " andanie to start with planning study,\n",
      " to. they to203ute\n",
      "unch for  minutes hour3\n",
      "So andanie study study,5 to for\n",
      "The4\n",
      "\n",
      ": Marks team52.  score teams\n",
      "s,5\n",
      " team also63, they8\n",
      " and as point\n",
      " together0\n",
      "s scoreds scored4 half57\n",
      "The is The\n",
      ": B has two as than deck she2 more what of have she\n",
      "\n",
      " haveella manybles as0\n",
      " Bella25 will\n",
      " more deck, have\n",
      "2+0The\n",
      "4 fruitanas first2 many there\n",
      "\n",
      "\n",
      ",8\n",
      "ets are3anges theThe3 basket4\n",
      "The1\n",
      ":13ruits between cost\n",
      "\n",
      ", then62\n",
      "1If\n",
      " of is and price\n",
      " can)2\n",
      "\n",
      ":y a large,0,, many the most\n",
      "\n",
      ",0y0 total\n",
      ",:0 Heanged into\n",
      " boxestersbox0He50ese three to3, 1000 - 480 = 520 do not like to play basketball.\n",
      "The percentage of the school that do not like to play basketball is 520/1000 * 100 = 52\n",
      "The answer is 52\n",
      "\n",
      "Question: A robe takes 2 bolts of blue fiber and half that much white fiber.  How many bolts in total does it take?\n",
      "\n"
     ]
    }
   ],
   "source": [
    "print(compressed_prompt_q)"
   ]
  },
  {
   "cell_type": "code",
   "execution_count": 25,
   "id": "5d350209",
   "metadata": {},
   "outputs": [],
   "source": [
    "response = client.chat.completions.create(\n",
    "    model=\"gpt-3.5-turbo\",\n",
    "    messages=[\n",
    "        {\"role\": \"system\", \"content\": \"Follow the given examples and answer the question.\"},\n",
    "        {\"role\": \"user\", \"content\": compressed_prompt_q},\n",
    "    ]\n",
    ")"
   ]
  },
  {
   "cell_type": "code",
   "execution_count": 26,
   "id": "1c40bead",
   "metadata": {},
   "outputs": [
    {
     "data": {
      "text/plain": [
       "'Total bolts needed = 2 (blue) + 1 (half of blue for white) = 3 bolts.\\nIt takes a total of 3 bolts to make the robe.'"
      ]
     },
     "execution_count": 26,
     "metadata": {},
     "output_type": "execute_result"
    }
   ],
   "source": [
    "response.choices[0].message.content"
   ]
  },
  {
   "cell_type": "code",
   "execution_count": null,
   "id": "92e3ca0a",
   "metadata": {},
   "outputs": [],
   "source": []
  }
 ],
 "metadata": {
  "kernelspec": {
   "display_name": "Python 3 (ipykernel)",
   "language": "python",
   "name": "python3"
  },
  "language_info": {
   "codemirror_mode": {
    "name": "ipython",
    "version": 3
   },
   "file_extension": ".py",
   "mimetype": "text/x-python",
   "name": "python",
   "nbconvert_exporter": "python",
   "pygments_lexer": "ipython3",
   "version": "3.11.4"
  }
 },
 "nbformat": 4,
 "nbformat_minor": 5
}
